{
  "nbformat": 4,
  "nbformat_minor": 0,
  "metadata": {
    "colab": {
      "provenance": []
    },
    "kernelspec": {
      "name": "python3",
      "display_name": "Python 3"
    },
    "language_info": {
      "name": "python"
    }
  },
  "cells": [
    {
      "cell_type": "markdown",
      "source": [
        "**Step 0:** Import Libraries"
      ],
      "metadata": {
        "id": "vaaFCtd4Hc3-"
      }
    },
    {
      "cell_type": "code",
      "execution_count": 8,
      "metadata": {
        "id": "adFI73OmHS_6"
      },
      "outputs": [],
      "source": [
        "import pandas as pd\n",
        "import numpy as np\n",
        "import matplotlib.pyplot as plt\n",
        "import seaborn as sns\n"
      ]
    },
    {
      "cell_type": "markdown",
      "source": [
        "**Step 1:** Load and Preprocess Data"
      ],
      "metadata": {
        "id": "1yo8JpUnMFMn"
      }
    },
    {
      "cell_type": "markdown",
      "source": [
        "1.Load dataset"
      ],
      "metadata": {
        "id": "F4bt-ciuMS_D"
      }
    },
    {
      "cell_type": "code",
      "source": [
        "!gdown 1ZdhRqYv-JizWV6DxO6C4R_k1kxPhmlF2"
      ],
      "metadata": {
        "colab": {
          "base_uri": "https://localhost:8080/"
        },
        "id": "-573S5TQM9qI",
        "outputId": "1e117405-fd3d-4521-9849-a402168873bb"
      },
      "execution_count": 9,
      "outputs": [
        {
          "output_type": "stream",
          "name": "stdout",
          "text": [
            "Downloading...\n",
            "From: https://drive.google.com/uc?id=1ZdhRqYv-JizWV6DxO6C4R_k1kxPhmlF2\n",
            "To: /content/multiclass.csv\n",
            "\r  0% 0.00/14.6k [00:00<?, ?B/s]\r100% 14.6k/14.6k [00:00<00:00, 26.5MB/s]\n"
          ]
        }
      ]
    },
    {
      "cell_type": "code",
      "source": [
        "df = pd.read_csv(\"Groceries.csv\")\n",
        "print(df.head())\n",
        "print(df.info())\n"
      ],
      "metadata": {
        "colab": {
          "base_uri": "https://localhost:8080/"
        },
        "id": "2Cd4tXwcMVGY",
        "outputId": "d6b4cf6e-5f59-4563-cb67-a56fa9f93332"
      },
      "execution_count": 10,
      "outputs": [
        {
          "output_type": "stream",
          "name": "stdout",
          "text": [
            "   Region  Fresh  Milk  Grocery  Frozen  Detergents_Paper  Delicassen  class\n",
            "0       3  12669  9656     7561     214              2674        1338      2\n",
            "1       3   7057  9810     9568    1762              3293        1776      2\n",
            "2       3   6353  8808     7684    2405              3516        7844      2\n",
            "3       3  13265  1196     4221    6404               507        1788      1\n",
            "4       3  22615  5410     7198    3915              1777        5185      1\n",
            "<class 'pandas.core.frame.DataFrame'>\n",
            "RangeIndex: 440 entries, 0 to 439\n",
            "Data columns (total 8 columns):\n",
            " #   Column            Non-Null Count  Dtype\n",
            "---  ------            --------------  -----\n",
            " 0   Region            440 non-null    int64\n",
            " 1   Fresh             440 non-null    int64\n",
            " 2   Milk              440 non-null    int64\n",
            " 3   Grocery           440 non-null    int64\n",
            " 4   Frozen            440 non-null    int64\n",
            " 5   Detergents_Paper  440 non-null    int64\n",
            " 6   Delicassen        440 non-null    int64\n",
            " 7   class             440 non-null    int64\n",
            "dtypes: int64(8)\n",
            "memory usage: 27.6 KB\n",
            "None\n"
          ]
        }
      ]
    },
    {
      "cell_type": "code",
      "source": [
        "from sklearn.model_selection import train_test_split\n",
        "from sklearn.preprocessing import StandardScaler\n",
        "\n",
        "\n",
        "# Features (X) and target (y)\n",
        "X = df.drop(\"class\", axis=1).values\n",
        "y = df[\"class\"].values\n",
        "\n",
        "# Scale features (important for KNN distance)\n",
        "scaler = StandardScaler()\n",
        "X = scaler.fit_transform(X)\n",
        "\n",
        "# Split into train/test sets\n",
        "X_train, X_test, y_train, y_test = train_test_split(\n",
        "    X, y, test_size=0.2, random_state=42\n",
        ")\n",
        "print(\"Data preprocessed successfully ✅\")\n"
      ],
      "metadata": {
        "colab": {
          "base_uri": "https://localhost:8080/"
        },
        "id": "vp-NDeGzPEfB",
        "outputId": "82630fef-677e-4799-eb18-1fc79f9fcd5b"
      },
      "execution_count": 11,
      "outputs": [
        {
          "output_type": "stream",
          "name": "stdout",
          "text": [
            "Data preprocessed successfully ✅\n"
          ]
        }
      ]
    },
    {
      "cell_type": "markdown",
      "source": [
        "**Step 2:** Scratch KNN Implementation"
      ],
      "metadata": {
        "id": "CY--k3aZQ1S0"
      }
    },
    {
      "cell_type": "code",
      "source": [
        "from collections import Counter\n",
        "import numpy as np\n",
        "\n",
        "# Euclidean distance\n",
        "def euclidean_distance(x1, x2):\n",
        "    return np.sqrt(np.sum((x1 - x2) ** 2))\n",
        "\n",
        "class KNN:\n",
        "    def __init__(self, k=3, verbose=False):\n",
        "        self.k = k\n",
        "        self.verbose = verbose   # if True → show details\n",
        "\n",
        "    def fit(self, X, y):\n",
        "        self.X_train = X\n",
        "        self.y_train = y\n",
        "\n",
        "    def predict(self, X):\n",
        "        return np.array([self._predict(x) for x in X])\n",
        "\n",
        "    def _predict(self, x):\n",
        "        # Step 1: compute distances\n",
        "        distances = [euclidean_distance(x, x_train) for x_train in self.X_train]\n",
        "\n",
        "        # Step 2: get k nearest neighbors\n",
        "        k_indices = np.argsort(distances)[:self.k]\n",
        "        k_nearest_labels = [self.y_train[i] for i in k_indices]\n",
        "\n",
        "        # Step 3: majority vote\n",
        "        most_common = Counter(k_nearest_labels).most_common(1)\n",
        "\n",
        "        if self.verbose:\n",
        "            print(\"\\n--- Nearest Neighbors ---\")\n",
        "            for idx in k_indices:\n",
        "                print(f\"Label={self.y_train[idx]}, Distance={distances[idx]:.4f}\")\n",
        "            print(\"\\n--- Majority Voting ---\")\n",
        "            print(Counter(k_nearest_labels))  # shows counts per label\n",
        "            print(f\"Predicted Label = {most_common[0][0]}\")\n",
        "\n",
        "        return most_common[0][0]\n"
      ],
      "metadata": {
        "id": "wKQcWKpkQ4rH"
      },
      "execution_count": 14,
      "outputs": []
    },
    {
      "cell_type": "code",
      "source": [
        "# Train with verbose ON\n",
        "knn = KNN(k=5, verbose=True)\n",
        "knn.fit(X_train, y_train)\n",
        "\n",
        "# Predict only one sample (to see voting clearly)\n",
        "print(\"Test Sample:\", X_test[0])\n",
        "pred = knn._predict(X_test[0])   # direct call to show details\n",
        "\n",
        "# Predict whole test set (no details shown, just accuracy)\n",
        "knn.verbose = False\n",
        "y_pred = knn.predict(X_test)\n",
        "accuracy = np.mean(y_pred == y_test)\n",
        "print(\"\\nScratch KNN Accuracy:\", accuracy)\n"
      ],
      "metadata": {
        "colab": {
          "base_uri": "https://localhost:8080/"
        },
        "id": "_PYWVGRfRKHc",
        "outputId": "4c669ddf-f537-4a05-e564-772512e43b30"
      },
      "execution_count": 15,
      "outputs": [
        {
          "output_type": "stream",
          "name": "stdout",
          "text": [
            "Test Sample: [-1.99534212 -0.48217545  2.40515039  0.60551055  1.46068136 -0.43076575\n",
            "  0.74945151]\n",
            "\n",
            "--- Nearest Neighbors ---\n",
            "Label=2, Distance=1.7012\n",
            "Label=3, Distance=2.6418\n",
            "Label=2, Distance=2.7241\n",
            "Label=2, Distance=2.7598\n",
            "Label=2, Distance=2.7697\n",
            "\n",
            "--- Majority Voting ---\n",
            "Counter({np.int64(2): 4, np.int64(3): 1})\n",
            "Predicted Label = 2\n",
            "\n",
            "Scratch KNN Accuracy: 0.8636363636363636\n"
          ]
        }
      ]
    },
    {
      "cell_type": "code",
      "source": [
        "import numpy as np\n",
        "from collections import Counter\n",
        "from sklearn.model_selection import train_test_split\n",
        "from sklearn.metrics import accuracy_score\n",
        "\n",
        "# Train-test split\n",
        "X_train, X_test, y_train, y_test = train_test_split(X, y, test_size=0.2, random_state=42)\n",
        "\n",
        "# Function to calculate Euclidean distance\n",
        "def euclidean_distance(x1, x2):\n",
        "    return np.sqrt(np.sum((x1 - x2) ** 2))\n",
        "\n",
        "# Scratch KNN prediction function\n",
        "def knn_predict(X_train, y_train, x_test, k):\n",
        "    distances = []\n",
        "    for i, x_train in enumerate(X_train):\n",
        "        dist = euclidean_distance(x_test, x_train)\n",
        "        distances.append((dist, y_train[i]))\n",
        "\n",
        "    # Sort distances\n",
        "    distances.sort(key=lambda x: x[0])\n",
        "\n",
        "    # Top-k neighbors\n",
        "    neighbors = [label for _, label in distances[:k]]\n",
        "\n",
        "    # Majority voting\n",
        "    most_common = Counter(neighbors).most_common(1)[0][0]\n",
        "    return most_common\n",
        "\n",
        "# Function to evaluate accuracy for different K values\n",
        "def evaluate_knn(X_train, y_train, X_test, y_test, k):\n",
        "    predictions = []\n",
        "    for x in X_test:\n",
        "        predictions.append(knn_predict(X_train, y_train, x, k))\n",
        "    return accuracy_score(y_test, predictions)\n",
        "\n",
        "# Test multiple K values\n",
        "k_range = range(1, 21)\n",
        "accuracies = []\n",
        "\n",
        "for k in k_range:\n",
        "    acc = evaluate_knn(X_train, y_train, X_test, y_test, k)\n",
        "    accuracies.append(acc)\n",
        "\n",
        "# Find optimal K\n",
        "optimal_k = k_range[accuracies.index(max(accuracies))]\n",
        "print(f\"✅ Optimal K (Scratch): {optimal_k}\")\n",
        "print(f\"✅ Best Accuracy (Scratch): {max(accuracies):.2f}\")\n",
        "\n",
        "# Final prediction with optimal K\n",
        "final_predictions = [knn_predict(X_train, y_train, x, optimal_k) for x in X_test]\n",
        "print(\"Predictions with Optimal K (Scratch):\", final_predictions[:10])  # show first 10 predictions\n"
      ],
      "metadata": {
        "colab": {
          "base_uri": "https://localhost:8080/"
        },
        "id": "zUy3eRtHXxLU",
        "outputId": "73e97f96-875f-4fe1-87c6-b6ac341babdf"
      },
      "execution_count": 21,
      "outputs": [
        {
          "output_type": "stream",
          "name": "stdout",
          "text": [
            "✅ Optimal K (Scratch): 13\n",
            "✅ Best Accuracy (Scratch): 0.90\n",
            "Predictions with Optimal K (Scratch): [np.int64(2), np.int64(3), np.int64(2), np.int64(1), np.int64(3), np.int64(3), np.int64(3), np.int64(2), np.int64(3), np.int64(3)]\n"
          ]
        }
      ]
    },
    {
      "cell_type": "markdown",
      "source": [
        "**Step 3:** Sklearn KNN"
      ],
      "metadata": {
        "id": "0xH3D936RShR"
      }
    },
    {
      "cell_type": "code",
      "source": [
        "from sklearn.neighbors import KNeighborsClassifier\n",
        "from sklearn.metrics import accuracy_score\n",
        "from collections import Counter\n",
        "import numpy as np\n",
        "\n",
        "# Train sklearn KNN\n",
        "knn_sklearn = KNeighborsClassifier(n_neighbors=5, metric='euclidean')\n",
        "knn_sklearn.fit(X_train, y_train)\n",
        "y_pred_sklearn = knn_sklearn.predict(X_test)\n",
        "\n",
        "print(\"Sklearn KNN Accuracy:\", accuracy_score(y_test, y_pred_sklearn))\n",
        "\n",
        "# ---- Show neighbors + voting for 1 test sample ----\n",
        "test_sample = X_test[0].reshape(1, -1)\n",
        "\n",
        "# Find k nearest neighbors using sklearn's kneighbors()\n",
        "distances, indices = knn_sklearn.kneighbors(test_sample)\n",
        "\n",
        "print(\"\\n--- Nearest Neighbors (Sklearn) ---\")\n",
        "neighbor_labels = []\n",
        "for i, (dist, idx) in enumerate(zip(distances[0], indices[0]), start=1):\n",
        "    label = y_train[idx]\n",
        "    neighbor_labels.append(label)\n",
        "    print(f\"{i}. Label={label}, Distance={dist:.4f}, Row={X_train[idx]}\")\n",
        "\n",
        "print(\"\\n--- Majority Voting ---\")\n",
        "print(Counter(neighbor_labels))\n",
        "print(f\"Predicted Label = {y_pred_sklearn[0]}\")\n"
      ],
      "metadata": {
        "colab": {
          "base_uri": "https://localhost:8080/"
        },
        "id": "5FX47QLKRTc9",
        "outputId": "3853dc91-f40a-46b4-ec1b-448f68e673bd"
      },
      "execution_count": 19,
      "outputs": [
        {
          "output_type": "stream",
          "name": "stdout",
          "text": [
            "Sklearn KNN Accuracy: 0.8636363636363636\n",
            "\n",
            "--- Nearest Neighbors (Sklearn) ---\n",
            "1. Label=2, Distance=1.7012, Row=[-1.99534212 -0.12833882  1.65162206 -0.33745855  0.33285566 -0.28021246\n",
            "  0.61774642]\n",
            "2. Label=3, Distance=2.6418, Row=[-1.99534212 -0.07348227  0.02614412 -0.24612192  1.08247103 -0.40451867\n",
            "  0.21730614]\n",
            "3. Label=2, Distance=2.7241, Row=[-0.70233692 -0.83284576  1.24603256  0.41851802 -0.4969799   0.2119729\n",
            "  0.70401148]\n",
            "4. Label=2, Distance=2.7598, Row=[-1.99534212  1.0451006   0.77194048  0.16210122  0.41101363 -0.54541303\n",
            "  1.8918423 ]\n",
            "5. Label=2, Distance=2.7697, Row=[-1.99534212 -0.72780298  0.67400214  0.79924535 -0.35015015  0.61869775\n",
            "  0.3064112 ]\n",
            "\n",
            "--- Majority Voting ---\n",
            "Counter({np.int64(2): 4, np.int64(3): 1})\n",
            "Predicted Label = 2\n"
          ]
        }
      ]
    },
    {
      "cell_type": "code",
      "source": [
        "# -----------------------------\n",
        "# STEP 3: KNN with Sklearn\n",
        "# -----------------------------\n",
        "from sklearn.model_selection import train_test_split\n",
        "from sklearn.neighbors import KNeighborsClassifier\n",
        "from sklearn.metrics import accuracy_score\n",
        "import matplotlib.pyplot as plt\n",
        "\n",
        "# Split dataset\n",
        "X_train, X_test, y_train, y_test = train_test_split(X, y, test_size=0.2, random_state=42)\n",
        "\n",
        "# Find optimal K\n",
        "k_range = range(1, 21)  # test K from 1 to 20\n",
        "accuracies = []\n",
        "\n",
        "for k in k_range:\n",
        "    knn = KNeighborsClassifier(n_neighbors=k)\n",
        "    knn.fit(X_train, y_train)\n",
        "    y_pred = knn.predict(X_test)\n",
        "    acc = accuracy_score(y_test, y_pred)\n",
        "    accuracies.append(acc)\n",
        "\n",
        "# Best K value\n",
        "optimal_k = k_range[accuracies.index(max(accuracies))]\n",
        "print(f\"✅ Optimal K value: {optimal_k}\")\n",
        "print(f\"✅ Best Accuracy: {max(accuracies):.2f}\")\n",
        "\n",
        "# Train final model with optimal K\n",
        "knn_final = KNeighborsClassifier(n_neighbors=optimal_k)\n",
        "knn_final.fit(X_train, y_train)\n",
        "y_pred_final = knn_final.predict(X_test)\n",
        "\n",
        "print(\"Predictions with Optimal K:\", y_pred_final)\n",
        "\n",
        "# Optional: Plot accuracy vs K\n",
        "plt.plot(k_range, accuracies, marker='o')\n",
        "plt.xlabel(\"K Value\")\n",
        "plt.ylabel(\"Accuracy\")\n",
        "plt.title(\"K vs Accuracy\")\n",
        "plt.show()\n"
      ],
      "metadata": {
        "colab": {
          "base_uri": "https://localhost:8080/",
          "height": 559
        },
        "id": "5zGpn-KgXeMF",
        "outputId": "bc21a0eb-ecfd-48d8-94c7-f928a1438606"
      },
      "execution_count": 20,
      "outputs": [
        {
          "output_type": "stream",
          "name": "stdout",
          "text": [
            "✅ Optimal K value: 11\n",
            "✅ Best Accuracy: 0.90\n",
            "Predictions with Optimal K: [2 3 2 1 3 3 3 2 3 3 3 1 2 3 2 3 1 2 1 3 2 2 2 3 1 1 1 1 1 3 2 2 1 2 1 3 3\n",
            " 2 2 3 3 3 3 3 2 1 2 2 2 1 2 3 3 1 2 3 2 3 2 2 1 3 2 2 2 2 2 2 3 1 2 3 3 3\n",
            " 3 2 2 1 2 3 3 3 1 2 3 2 3 3]\n"
          ]
        },
        {
          "output_type": "display_data",
          "data": {
            "text/plain": [
              "<Figure size 640x480 with 1 Axes>"
            ],
            "image/png": "[encoded data removed]"
          },
          "metadata": {}
        }
      ]
    }
  ]
}
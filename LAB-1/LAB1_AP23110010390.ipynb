{
  "cells": [
    {
      "cell_type": "markdown",
      "id": "20dc80e4",
      "metadata": {
        "id": "20dc80e4"
      },
      "source": [
        "# 🧑‍💻 NumPy Complete Guided Project\n",
        "**Instructor / Student Colab Notebook** – covers *all* key concepts from `Numpy‑1` to `Numpy‑5`.\n",
        "\n",
        "*Generated: 08 Aug 2025*"
      ]
    },
    {
      "cell_type": "markdown",
      "id": "e8b8b6cf",
      "metadata": {
        "id": "e8b8b6cf"
      },
      "source": [
        "\n",
        "**Table of Contents**\n",
        "\n",
        "1. [Setup](#setup)  \n",
        "2. [Array Creation & Dtypes](#creation)  \n",
        "3. [Array Attributes & Inspection](#attributes)  \n",
        "4. [Indexing, Slicing, Fancy Indexing](#indexing)  \n",
        "5. [Reshaping, Transpose & Copies vs Views](#reshape)  \n",
        "6. [Joining, Splitting, Set & Sorting Ops](#join)  \n",
        "7. [Arithmetic Ops, Universal Functions](#arithmetic)  \n",
        "8. [Broadcasting (Rules + Examples)](#broadcast)  \n",
        "9. [Statistics & Aggregations](#stats)  \n",
        "10. [Random Numbers & Reproducibility](#random)  \n",
        "11. [Structured / Recarrays](#structured)  \n",
        "12. [Linear Algebra Essentials](#linalg)  \n",
        "13. [File I/O (`npy`, `npz`, `txt`)](#io)  \n",
        "14. [Datetime64 & Timedelta64](#datetime)  \n",
        "15. [Masked Arrays & NaNs](#mask)  \n",
        "16. [Mini‑Project — Fitness Data Analysis](#project)  \n",
        "17. [Conclusion & Next Steps](#conclusion)  \n"
      ]
    },
    {
      "cell_type": "markdown",
      "id": "9170f3ee",
      "metadata": {
        "id": "9170f3ee"
      },
      "source": [
        "## <a name='setup'></a>1️⃣ Setup"
      ]
    },
    {
      "cell_type": "code",
      "execution_count": 10,
      "id": "4f54988f",
      "metadata": {
        "colab": {
          "base_uri": "https://localhost:8080/"
        },
        "id": "4f54988f",
        "outputId": "e3e84c15-ab82-4ced-9a2e-fb9608f17fea"
      },
      "outputs": [
        {
          "name": "stdout",
          "output_type": "stream",
          "text": [
            "NumPy version: 2.3.2\n"
          ]
        }
      ],
      "source": [
        "import numpy as np, math, os, pathlib, types, textwrap, random\n",
        "print('NumPy version:', np.__version__)"
      ]
    },
    {
      "cell_type": "markdown",
      "id": "c7f7b2c8",
      "metadata": {
        "id": "c7f7b2c8"
      },
      "source": [
        "## <a name='creation'></a>2️⃣ Array Creation & Dtypes"
      ]
    },
    {
      "cell_type": "markdown",
      "id": "47405152",
      "metadata": {
        "id": "47405152"
      },
      "source": [
        "Key functions: `np.array`, `np.arange`, `np.linspace`, `zeros`, `ones`, `full`, `eye`, `identity`, `diag`, `empty`"
      ]
    },
    {
      "cell_type": "code",
      "execution_count": 11,
      "id": "801e99ad",
      "metadata": {
        "id": "801e99ad",
        "outputId": "c7440433-e5fc-4e99-aee3-bf473a75151a"
      },
      "outputs": [
        {
          "name": "stdout",
          "output_type": "stream",
          "text": [
            "[1 2 3]\n",
            "[0.  0.2 0.4 0.6 0.8 1. ]\n",
            "[[7.5 7.5 7.5]\n",
            " [7.5 7.5 7.5]]\n",
            "dtypes: int32 float64\n"
          ]
        }
      ],
      "source": [
        "# EXAMPLE\n",
        "arr1 = np.array([1, 2, 3], dtype=np.int32)\n",
        "arr2 = np.linspace(0, 1, 6)\n",
        "arr3 = np.full((2,3), 7.5)\n",
        "print(arr1, arr2, arr3, sep=\"\\n\")\n",
        "print(\"dtypes:\", arr1.dtype, arr2.dtype)\n"
      ]
    },
    {
      "cell_type": "code",
      "execution_count": 12,
      "id": "dc63d076",
      "metadata": {
        "colab": {
          "base_uri": "https://localhost:8080/"
        },
        "id": "dc63d076",
        "outputId": "d036ed26-4b34-4932-9276-aa232fd8432d"
      },
      "outputs": [
        {
          "name": "stdout",
          "output_type": "stream",
          "text": [
            "[[0 1 0 1 0 1 0 1 0 1]\n",
            " [1 0 1 0 1 0 1 0 1 0]\n",
            " [0 1 0 1 0 1 0 1 0 1]\n",
            " [1 0 1 0 1 0 1 0 1 0]\n",
            " [0 1 0 1 0 1 0 1 0 1]\n",
            " [1 0 1 0 1 0 1 0 1 0]\n",
            " [0 1 0 1 0 1 0 1 0 1]\n",
            " [1 0 1 0 1 0 1 0 1 0]\n",
            " [0 1 0 1 0 1 0 1 0 1]\n",
            " [1 0 1 0 1 0 1 0 1 0]]\n"
          ]
        }
      ],
      "source": [
        "# 🖊️ TODO: create a 10×10 chessboard pattern using zeros & ones\n",
        "\n",
        "import numpy as np\n",
        "matrix = np.full((10,10),0)\n",
        "matrix[0::2,1::2]=1\n",
        "matrix[1::2,::2]=1\n",
        "print(matrix)"
      ]
    },
    {
      "cell_type": "markdown",
      "id": "925be762",
      "metadata": {
        "id": "925be762"
      },
      "source": [
        "## <a name='attributes'></a>3️⃣ Array Attributes & Inspection"
      ]
    },
    {
      "cell_type": "markdown",
      "id": "f103bb36",
      "metadata": {
        "id": "f103bb36"
      },
      "source": [
        "`shape`, `ndim`, `size`, `dtype`, `itemsize`, `nbytes`"
      ]
    },
    {
      "cell_type": "code",
      "execution_count": 13,
      "id": "ad3eeda1",
      "metadata": {
        "colab": {
          "base_uri": "https://localhost:8080/"
        },
        "id": "ad3eeda1",
        "outputId": "150321bc-dd97-4d1b-dc5e-6da96b6481c4"
      },
      "outputs": [
        {
          "name": "stdout",
          "output_type": "stream",
          "text": [
            "shape (3, 4) ndim 2 size 12 itemsize 8 total bytes 96\n"
          ]
        }
      ],
      "source": [
        "M = np.arange(12).reshape(3,4)\n",
        "print('shape', M.shape, 'ndim', M.ndim, 'size', M.size, 'itemsize', M.itemsize, 'total bytes', M.nbytes)\n"
      ]
    },
    {
      "cell_type": "code",
      "execution_count": 14,
      "id": "5875fefe",
      "metadata": {
        "colab": {
          "base_uri": "https://localhost:8080/"
        },
        "id": "5875fefe",
        "outputId": "3d51fcd6-5d8d-4a0d-d813-d68847b32930"
      },
      "outputs": [
        {
          "name": "stdout",
          "output_type": "stream",
          "text": [
            "8000000 bytes\n"
          ]
        }
      ],
      "source": [
        "# 🖊️ TODO: check memory footprint of a 1000×1000 float64 array\n",
        "import numpy as np\n",
        "arr = np.zeros((1000, 1000), dtype=np.float64)\n",
        "print(arr.nbytes, \"bytes\")"
      ]
    },
    {
      "cell_type": "markdown",
      "id": "bd895660",
      "metadata": {
        "id": "bd895660"
      },
      "source": [
        "## <a name='indexing'></a>4️⃣ Indexing, Slicing & Fancy Indexing"
      ]
    },
    {
      "cell_type": "code",
      "execution_count": 15,
      "id": "5dc7d4c1",
      "metadata": {
        "colab": {
          "base_uri": "https://localhost:8080/"
        },
        "id": "5dc7d4c1",
        "outputId": "75ba07db-79df-4cda-8ee9-1bf713bc7654"
      },
      "outputs": [
        {
          "name": "stdout",
          "output_type": "stream",
          "text": [
            "[ 1  6 11 16 21]\n",
            "[[ 1  3  5]\n",
            " [11 13 15]\n",
            " [21 23 25]]\n",
            "multiples of 3: [ 3  6  9 12 15 18 21 24]\n"
          ]
        }
      ],
      "source": [
        "a = np.arange(1,26).reshape(5,5)\n",
        "print(a[:, 0])     # first column\n",
        "print(a[::2, ::2]) # every 2nd row/col\n",
        "mask = (a % 3 == 0)\n",
        "print('multiples of 3:', a[mask])\n"
      ]
    },
    {
      "cell_type": "code",
      "execution_count": 16,
      "id": "9c4bd5f4",
      "metadata": {
        "colab": {
          "base_uri": "https://localhost:8080/"
        },
        "id": "9c4bd5f4",
        "outputId": "08b5de46-01dd-49af-c58f-601ff72ddf10"
      },
      "outputs": [
        {
          "name": "stdout",
          "output_type": "stream",
          "text": [
            "Original array:\n",
            " [[ 1  2  3]\n",
            " [ 4  5  6]\n",
            " [ 7  8  9]\n",
            " [10 11 12]]\n",
            "\n",
            "After swapping first and last rows:\n",
            " [[10 11 12]\n",
            " [ 4  5  6]\n",
            " [ 7  8  9]\n",
            " [ 1  2  3]]\n"
          ]
        }
      ],
      "source": [
        "# 🖊️ TODO: use fancy indexing to swap first and last rows of `a`\n",
        "a = np.arange(1, 13).reshape(4, 3)\n",
        "print(\"Original array:\\n\", a)\n",
        "a[[0, -1]] = a[[-1, 0]]\n",
        "print(\"\\nAfter swapping first and last rows:\\n\", a)\n",
        "\n"
      ]
    },
    {
      "cell_type": "markdown",
      "id": "8f4de1d5",
      "metadata": {
        "id": "8f4de1d5"
      },
      "source": [
        "## <a name='reshape'></a>5️⃣ Reshaping, Transpose & Copies vs Views"
      ]
    },
    {
      "cell_type": "code",
      "execution_count": 17,
      "id": "053b4ff4",
      "metadata": {
        "colab": {
          "base_uri": "https://localhost:8080/"
        },
        "id": "053b4ff4",
        "outputId": "36e47539-7a56-4c0d-a4b8-1f11f1f902ce"
      },
      "outputs": [
        {
          "name": "stdout",
          "output_type": "stream",
          "text": [
            "b is modified: [99  1  2  3  4  5  6  7]\n",
            "b unchanged with copy: [99  1  2  3  4  5  6  7]\n"
          ]
        }
      ],
      "source": [
        "b = np.arange(8)\n",
        "B = b.reshape(2,4)\n",
        "B[0,0] = 99\n",
        "print('b is modified:', b)\n",
        "C = b.reshape(2,4).copy()\n",
        "C[0,0] = -1\n",
        "print('b unchanged with copy:', b)\n"
      ]
    },
    {
      "cell_type": "code",
      "execution_count": 18,
      "id": "a3e599bd",
      "metadata": {
        "colab": {
          "base_uri": "https://localhost:8080/"
        },
        "id": "a3e599bd",
        "outputId": "1f24f7d3-75b9-4b2d-ad9c-442982bcec5a"
      },
      "outputs": [
        {
          "name": "stdout",
          "output_type": "stream",
          "text": [
            "[1 2 3 4]\n",
            "[1 2 3 4]\n"
          ]
        }
      ],
      "source": [
        "# 🖊️ TODO: Flatten a 3‑D array into 1‑D using both `ravel` and `flatten`; observe copy vs view.\n",
        "a = np.array([[1, 2], [3, 4]])\n",
        "print(a.ravel())\n",
        "print(a.flatten())\n"
      ]
    },
    {
      "cell_type": "markdown",
      "id": "2390c4ae",
      "metadata": {
        "id": "2390c4ae"
      },
      "source": [
        "## <a name='join'></a>6️⃣ Joining, Splitting, Set & Sorting Ops"
      ]
    },
    {
      "cell_type": "code",
      "execution_count": 19,
      "id": "a53f640a",
      "metadata": {
        "colab": {
          "base_uri": "https://localhost:8080/"
        },
        "id": "a53f640a",
        "outputId": "4b13b7b9-f021-4f7d-8594-8957e93a670e"
      },
      "outputs": [
        {
          "name": "stdout",
          "output_type": "stream",
          "text": [
            "union [1 2 3 4 5 6]\n",
            "intersect [1 2]\n",
            "sorted descending [6 5 4 3 2 1]\n"
          ]
        }
      ],
      "source": [
        "x = np.array([1,3,5]); y = np.array([2,4,6])\n",
        "xy = np.concatenate([x,y])\n",
        "print('union', np.union1d(x,y))\n",
        "print('intersect', np.intersect1d(xy,[1,2,10]))\n",
        "print('sorted descending', np.sort(xy)[::-1])\n"
      ]
    },
    {
      "cell_type": "code",
      "execution_count": 20,
      "id": "4231e729",
      "metadata": {
        "colab": {
          "base_uri": "https://localhost:8080/"
        },
        "id": "4231e729",
        "outputId": "13c4e12b-0e28-45d9-c41e-b1cac670ca51"
      },
      "outputs": [
        {
          "name": "stdout",
          "output_type": "stream",
          "text": [
            "Original array: [0 1 2 3 4 5 6 7 8 9]\n",
            "First half: [0 1 2 3 4]\n",
            "Second half: [5 6 7 8 9]\n"
          ]
        }
      ],
      "source": [
        "# 🖊️ TODO: split `xy` back into two equal halves using `np.array_split`\n",
        "xy = np.arange(10)  # 0 to 9\n",
        "print(\"Original array:\", xy)\n",
        "halves = np.array_split(xy, 2)\n",
        "print(\"First half:\", halves[0])\n",
        "print(\"Second half:\", halves[1])"
      ]
    },
    {
      "cell_type": "markdown",
      "id": "e6ebeb68",
      "metadata": {
        "id": "e6ebeb68"
      },
      "source": [
        "## <a name='arithmetic'></a>7️⃣ Arithmetic Ops & Universal Functions"
      ]
    },
    {
      "cell_type": "code",
      "execution_count": 21,
      "id": "04a6eda9",
      "metadata": {
        "colab": {
          "base_uri": "https://localhost:8080/"
        },
        "id": "04a6eda9",
        "outputId": "c8d8b9e1-92b4-4a3b-e9c4-65b9eada2547"
      },
      "outputs": [
        {
          "name": "stdout",
          "output_type": "stream",
          "text": [
            "exp [ 1.          2.71828183  7.3890561  20.08553692 54.59815003]\n",
            "sin [ 0.          0.84147098  0.90929743  0.14112001 -0.7568025 ]\n",
            "vectorised addition [10 11 12 13 14]\n"
          ]
        }
      ],
      "source": [
        "v = np.arange(5)\n",
        "print('exp', np.exp(v))\n",
        "print('sin', np.sin(v))\n",
        "print('vectorised addition', v + 10)\n"
      ]
    },
    {
      "cell_type": "code",
      "execution_count": 22,
      "id": "c011f422",
      "metadata": {
        "colab": {
          "base_uri": "https://localhost:8080/"
        },
        "id": "c011f422",
        "outputId": "ad046a6c-ebc7-4b9e-99e6-62d7a0a7af3b"
      },
      "outputs": [
        {
          "name": "stdout",
          "output_type": "stream",
          "text": [
            "Radians:  [0.         0.52359878 0.78539816 1.04719755 1.57079633]\n",
            "Sine values:  [0.         0.5        0.70710678 0.8660254  1.        ]\n"
          ]
        }
      ],
      "source": [
        "# 🖊️ TODO: given degrees [0,30,45,60,90], compute radians and sin values.\n",
        "degrees = np.array([0, 30, 45, 60, 90])\n",
        "radians = np.deg2rad(degrees)\n",
        "sin_values = np.sin(radians)\n",
        "print(\"Radians: \", radians)\n",
        "print(\"Sine values: \", sin_values)"
      ]
    },
    {
      "cell_type": "markdown",
      "id": "7c9a5d70",
      "metadata": {
        "id": "7c9a5d70"
      },
      "source": [
        "## <a name='broadcast'></a>8️⃣ Broadcasting Rules"
      ]
    },
    {
      "cell_type": "markdown",
      "id": "aba2764d",
      "metadata": {
        "id": "aba2764d"
      },
      "source": [
        "Rules: compare dimensions from right → left; stretch size 1 dims; mismatch error."
      ]
    },
    {
      "cell_type": "code",
      "execution_count": 23,
      "id": "6313899c",
      "metadata": {
        "colab": {
          "base_uri": "https://localhost:8080/"
        },
        "id": "6313899c",
        "outputId": "4c9bec69-b8ec-4966-f058-7ee0534915a6"
      },
      "outputs": [
        {
          "name": "stdout",
          "output_type": "stream",
          "text": [
            "[[0 1 2 3 4]\n",
            " [1 2 3 4 5]\n",
            " [2 3 4 5 6]]\n"
          ]
        }
      ],
      "source": [
        "row = np.arange(5)\n",
        "col = np.arange(3).reshape(3,1)\n",
        "matrix = row + col  # broadcast to 3×5\n",
        "print(matrix)\n"
      ]
    },
    {
      "cell_type": "code",
      "execution_count": 24,
      "id": "de718119",
      "metadata": {
        "id": "de718119"
      },
      "outputs": [
        {
          "name": "stdout",
          "output_type": "stream",
          "text": [
            "[[  1   2   3   4   5   6   7   8   9  10]\n",
            " [  2   4   6   8  10  12  14  16  18  20]\n",
            " [  3   6   9  12  15  18  21  24  27  30]\n",
            " [  4   8  12  16  20  24  28  32  36  40]\n",
            " [  5  10  15  20  25  30  35  40  45  50]\n",
            " [  6  12  18  24  30  36  42  48  54  60]\n",
            " [  7  14  21  28  35  42  49  56  63  70]\n",
            " [  8  16  24  32  40  48  56  64  72  80]\n",
            " [  9  18  27  36  45  54  63  72  81  90]\n",
            " [ 10  20  30  40  50  60  70  80  90 100]]\n"
          ]
        }
      ],
      "source": [
        "# 🖊️ TODO: use broadcasting to create a 10×10 multiplication table.\n",
        "row = np.arange(1, 11)        \n",
        "col = np.arange(1, 11).reshape(10, 1)  \n",
        "matrix = col * row \n",
        "print(matrix)\n"
      ]
    },
    {
      "cell_type": "markdown",
      "id": "38a618c8",
      "metadata": {
        "id": "38a618c8"
      },
      "source": [
        "## <a name='stats'></a>9️⃣ Statistics & Aggregations"
      ]
    },
    {
      "cell_type": "code",
      "execution_count": 25,
      "id": "af9ac70d",
      "metadata": {
        "id": "af9ac70d"
      },
      "outputs": [
        {
          "name": "stdout",
          "output_type": "stream",
          "text": [
            "data\n",
            " [[85 64 51 27]\n",
            " [31  5  8  2]\n",
            " [18 81 65 91]\n",
            " [50 61 97 73]\n",
            " [63 54 56 93]]\n",
            "row sums [227  46 255 281 266]\n",
            "col means [49.4 53.  55.4 57.2]\n"
          ]
        }
      ],
      "source": [
        "data = np.random.default_rng(0).integers(1, 100, size=(5,4))\n",
        "print('data\\n', data)\n",
        "print('row sums', data.sum(axis=1))\n",
        "print('col means', data.mean(axis=0))\n"
      ]
    },
    {
      "cell_type": "code",
      "execution_count": 26,
      "id": "63adf5be",
      "metadata": {
        "id": "63adf5be"
      },
      "outputs": [
        {
          "name": "stdout",
          "output_type": "stream",
          "text": [
            "25th, 50th, 75th percentiles: [3. 5. 7.]\n"
          ]
        }
      ],
      "source": [
        "# 🖊️ TODO: compute `np.percentile` (25th, 50th, 75th) of flattened `data`.\n",
        "data = np.array([[1, 2, 3],\n",
        "                 [4, 5, 6],\n",
        "                 [7, 8, 9]])\n",
        "percentiles = np.percentile(data, [25, 50, 75])\n",
        "print(\"25th, 50th, 75th percentiles:\", percentiles)"
      ]
    },
    {
      "cell_type": "markdown",
      "id": "8f3c00d7",
      "metadata": {
        "id": "8f3c00d7"
      },
      "source": [
        "## <a name='random'></a>🔟 Random Numbers & Reproducibility"
      ]
    },
    {
      "cell_type": "code",
      "execution_count": 27,
      "id": "98016975",
      "metadata": {
        "id": "98016975"
      },
      "outputs": [
        {
          "name": "stdout",
          "output_type": "stream",
          "text": [
            "[0.77395605 0.43887844 0.85859792 0.69736803 0.09417735] [31 49 39 40 38]\n"
          ]
        }
      ],
      "source": [
        "rng = np.random.default_rng(42)\n",
        "rand_floats = rng.random(5)\n",
        "rand_ints = rng.integers(low=10, high=50, size=5)\n",
        "print(rand_floats, rand_ints)\n",
        "rng2 = np.random.default_rng(42)\n",
        "assert np.allclose(rand_floats, rng2.random(5))\n"
      ]
    },
    {
      "cell_type": "code",
      "execution_count": 28,
      "id": "35dbadba",
      "metadata": {
        "id": "35dbadba"
      },
      "outputs": [
        {
          "name": "stdout",
          "output_type": "stream",
          "text": [
            "Proportion of 6s: 0.24\n"
          ]
        }
      ],
      "source": [
        "# 🖊️ TODO: simulate rolling a fair six‑sided die 100 times; estimate proportion of 6s.\n",
        "rolls = np.random.randint(1, 7, size=100)\n",
        "prop_6s = np.mean(rolls == 6)\n",
        "print(\"Proportion of 6s:\", prop_6s)"
      ]
    },
    {
      "cell_type": "markdown",
      "id": "6cdb04b2",
      "metadata": {
        "id": "6cdb04b2"
      },
      "source": [
        "## <a name='structured'></a>1️⃣1️⃣ Structured / Record Arrays"
      ]
    },
    {
      "cell_type": "code",
      "execution_count": 29,
      "id": "d8f64e42",
      "metadata": {
        "id": "d8f64e42"
      },
      "outputs": [
        {
          "name": "stdout",
          "output_type": "stream",
          "text": [
            "['Alice' 'Bob'] 27.5\n"
          ]
        }
      ],
      "source": [
        "people = np.array([('Alice', 25, 55.0), ('Bob', 30, 85.5)],\n",
        "                   dtype=[('name','U10'), ('age','i4'), ('weight','f4')])\n",
        "print(people['name'], people['age'].mean())\n"
      ]
    },
    {
      "cell_type": "code",
      "execution_count": 30,
      "id": "7a65fe1d",
      "metadata": {
        "id": "7a65fe1d"
      },
      "outputs": [
        {
          "name": "stdout",
          "output_type": "stream",
          "text": [
            "[(1, 'Alice', 165) (2, 'Bob', 180)]\n"
          ]
        }
      ],
      "source": [
        "# 🖊️ TODO: add a new field 'height' to the structured array using `np.lib.recfunctions.append_fields` (hint: pip install?).\n",
        "from numpy.lib import recfunctions as rfn\n",
        "data = np.array([(1, 'Alice'), (2, 'Bob')],\n",
        "                dtype=[('id', 'i4'), ('name', 'U10')])\n",
        "data = rfn.append_fields(data, 'height', [165, 180], usemask=False)\n",
        "print(data)"
      ]
    },
    {
      "cell_type": "markdown",
      "id": "df5b617b",
      "metadata": {
        "id": "df5b617b"
      },
      "source": [
        "## <a name='linalg'></a>1️⃣2️⃣ Linear Algebra Essentials"
      ]
    },
    {
      "cell_type": "code",
      "execution_count": 31,
      "id": "3f7fb475",
      "metadata": {
        "id": "3f7fb475"
      },
      "outputs": [
        {
          "name": "stdout",
          "output_type": "stream",
          "text": [
            "A·x ≈ b? True\n"
          ]
        }
      ],
      "source": [
        "A = np.random.random((3,3))\n",
        "b = np.random.random(3)\n",
        "x = np.linalg.solve(A, b)\n",
        "print('A·x ≈ b?', np.allclose(A.dot(x), b))\n"
      ]
    },
    {
      "cell_type": "code",
      "execution_count": 32,
      "id": "a8fb02d7",
      "metadata": {
        "id": "a8fb02d7"
      },
      "outputs": [
        {
          "name": "stdout",
          "output_type": "stream",
          "text": [
            "Eigenvalues: [5. 2.]\n"
          ]
        }
      ],
      "source": [
        "# 🖊️ TODO: compute eigenvalues of `A` using `np.linalg.eig`.\n",
        "A = np.array([[4, 2],\n",
        "              [1, 3]])\n",
        "eigvals, eigvecs = np.linalg.eig(A)\n",
        "print(\"Eigenvalues:\", eigvals)"
      ]
    },
    {
      "cell_type": "markdown",
      "id": "e8fd753c",
      "metadata": {
        "id": "e8fd753c"
      },
      "source": [
        "## <a name='io'></a>1️⃣3️⃣ File I/O (`npy`, `npz`, `txt`)"
      ]
    },
    {
      "cell_type": "code",
      "execution_count": 33,
      "id": "bd6dc026",
      "metadata": {
        "id": "bd6dc026"
      },
      "outputs": [
        {
          "name": "stdout",
          "output_type": "stream",
          "text": [
            "loaded equals A? True\n"
          ]
        }
      ],
      "source": [
        "np.save('array.npy', A)\n",
        "loaded = np.load('array.npy')\n",
        "print('loaded equals A?', np.allclose(loaded, A))\n",
        "np.savez('multi_arrays.npz', A=A, b=b)\n"
      ]
    },
    {
      "cell_type": "code",
      "execution_count": 34,
      "id": "d9552893",
      "metadata": {
        "id": "d9552893"
      },
      "outputs": [
        {
          "name": "stdout",
          "output_type": "stream",
          "text": [
            "Original data:\n",
            " [[1.5 2.3 3.7]\n",
            " [4.1 5.6 6.8]]\n",
            "\n",
            "Loaded data:\n",
            " [[1.5 2.3 3.7]\n",
            " [4.1 5.6 6.8]]\n"
          ]
        }
      ],
      "source": [
        "# 🖊️ TODO: Use `np.savetxt` to write `data` (from stats section) to CSV then reload with `np.loadtxt`.\n",
        "data = np.array([[1.5, 2.3, 3.7],\n",
        "                 [4.1, 5.6, 6.8]])\n",
        "np.savetxt(\"data.csv\", data, delimiter=\",\", fmt=\"%.2f\")\n",
        "loaded_data = np.loadtxt(\"data.csv\", delimiter=\",\")\n",
        "print(\"Original data:\\n\", data)\n",
        "print(\"\\nLoaded data:\\n\", loaded_data)"
      ]
    },
    {
      "cell_type": "markdown",
      "id": "f24f33e3",
      "metadata": {
        "id": "f24f33e3"
      },
      "source": [
        "## <a name='datetime'></a>1️⃣4️⃣ Datetime64 & Timedelta64"
      ]
    },
    {
      "cell_type": "code",
      "execution_count": 35,
      "id": "3ce7b543",
      "metadata": {
        "id": "3ce7b543"
      },
      "outputs": [
        {
          "name": "stdout",
          "output_type": "stream",
          "text": [
            "['2023-01-01' '2023-01-02' '2023-01-03' '2023-01-04' '2023-01-05'] 1 days\n"
          ]
        }
      ],
      "source": [
        "dates = np.arange('2023-01', '2023-04', dtype='datetime64[D]')\n",
        "delta = dates[1:] - dates[:-1]\n",
        "print(dates[:5], delta[0])\n"
      ]
    },
    {
      "cell_type": "code",
      "execution_count": 36,
      "id": "e493d6f8",
      "metadata": {
        "id": "e493d6f8"
      },
      "outputs": [
        {
          "name": "stdout",
          "output_type": "stream",
          "text": [
            "Number of Mondays: 0\n"
          ]
        }
      ],
      "source": [
        "# 🖊️ TODO: find how many Mondays appear in `dates` array.\n",
        "dates = np.array(['2025-08-01', '2025-08-04', '2025-08-11', '2025-08-12'],\n",
        "                 dtype='datetime64[D]')\n",
        "mondays = np.sum(dates.astype('datetime64[D]').astype(int) % 7 == 0)\n",
        "print(\"Number of Mondays:\", mondays)"
      ]
    },
    {
      "cell_type": "markdown",
      "id": "636116b9",
      "metadata": {
        "id": "636116b9"
      },
      "source": [
        "## <a name='mask'></a>1️⃣5️⃣ Masked Arrays & NaNs"
      ]
    },
    {
      "cell_type": "code",
      "execution_count": 37,
      "id": "ec30b3ee",
      "metadata": {
        "id": "ec30b3ee"
      },
      "outputs": [
        {
          "name": "stdout",
          "output_type": "stream",
          "text": [
            "2.3333333333333335\n"
          ]
        }
      ],
      "source": [
        "arr = np.array([1, 2, np.nan, 4, np.nan])\n",
        "masked = np.ma.masked_invalid(arr)\n",
        "print(masked.mean())\n"
      ]
    },
    {
      "cell_type": "code",
      "execution_count": 38,
      "id": "1ead3a9c",
      "metadata": {
        "id": "1ead3a9c"
      },
      "outputs": [
        {
          "name": "stdout",
          "output_type": "stream",
          "text": [
            "[[1.  6.5 3. ]\n",
            " [4.  5.  6. ]\n",
            " [7.  8.  9. ]]\n"
          ]
        }
      ],
      "source": [
        "# 🖊️ TODO: replace NaNs with column means in a 2‑D array containing NaNs.\n",
        "arr = np.array([[1,  np.nan, 3],\n",
        "                [4,  5,      np.nan],\n",
        "                [7,  8,      9]], dtype=float)\n",
        "col_means = np.nanmean(arr, axis=0)\n",
        "inds = np.where(np.isnan(arr))\n",
        "arr[inds] = np.take(col_means, inds[1])\n",
        "print(arr)"
      ]
    },
    {
      "cell_type": "markdown",
      "id": "509e6104",
      "metadata": {
        "id": "509e6104"
      },
      "source": [
        "## <a name='project'></a>1️⃣6️⃣ Mini‑Project: Fitness Data Analysis"
      ]
    },
    {
      "cell_type": "markdown",
      "id": "d867d3a6",
      "metadata": {
        "id": "d867d3a6"
      },
      "source": [
        "Load `fitness.txt` (tab‑separated) then follow prompts."
      ]
    },
    {
      "cell_type": "code",
      "execution_count": 39,
      "id": "593e50db",
      "metadata": {
        "id": "593e50db"
      },
      "outputs": [
        {
          "name": "stdout",
          "output_type": "stream",
          "text": [
            "columns: ('date', 'step_count', 'mood', 'calories_burned', 'hours_of_sleep', 'bool_of_active', 'weight_kg') rows: 96\n"
          ]
        }
      ],
      "source": [
        "fitness = np.genfromtxt('fitness.txt', delimiter='\\t', dtype=None, encoding=None, names=True)\n",
        "print('columns:', fitness.dtype.names, 'rows:', len(fitness))\n"
      ]
    },
    {
      "cell_type": "code",
      "execution_count": 40,
      "id": "32e514d2",
      "metadata": {
        "id": "32e514d2"
      },
      "outputs": [
        {
          "name": "stdout",
          "output_type": "stream",
          "text": [
            "Monthly step count:\n",
            "2017-10 79051\n",
            "2017-11 103071\n",
            "2017-12 89565\n",
            "2018-01 10163\n",
            "\n",
            "Sleep vs mood correlation: 0.2104166644730015\n",
            "\n",
            "Weekly summary:\n",
            "Week 1 days: steps=4684, sleep=5.57, mood=128.57\n",
            "Week 2 days: steps=2662, sleep=6.29, mood=128.57\n",
            "Week 3 days: steps=2863, sleep=5.57, mood=157.14\n",
            "Week 4 days: steps=2400, sleep=5.86, mood=257.14\n",
            "Week 5 days: steps=3554, sleep=4.57, mood=285.71\n",
            "Week 6 days: steps=3876, sleep=5.29, mood=300.00\n",
            "Week 7 days: steps=3310, sleep=5.57, mood=285.71\n",
            "Week 8 days: steps=2668, sleep=6.00, mood=257.14\n",
            "Week 9 days: steps=2929, sleep=7.00, mood=271.43\n",
            "Week 10 days: steps=3742, sleep=4.14, mood=185.71\n",
            "Week 11 days: steps=2654, sleep=4.43, mood=171.43\n",
            "Week 12 days: steps=3001, sleep=4.43, mood=171.43\n",
            "Week 13 days: steps=1189, sleep=3.29, mood=142.86\n",
            "Week 14 days: steps=1023, sleep=5.00, mood=220.00\n"
          ]
        }
      ],
      "source": [
        "# 🖊️ TODO: Monthly step count, sleep vs mood correlation, weekly summary, etc.\n",
        "\n",
        "date_strings = fitness['date']\n",
        "parsed_dates = np.array(\n",
        "    [f\"{d.split('-')[2]}-{d.split('-')[1]}-{d.split('-')[0]}\" for d in date_strings],\n",
        "    dtype='datetime64[D]'\n",
        ")\n",
        "\n",
        "dates = parsed_dates\n",
        "steps = fitness['step_count']\n",
        "sleep = fitness['hours_of_sleep']\n",
        "mood = fitness['mood']\n",
        "\n",
        "months = dates.astype('datetime64[M]')\n",
        "print(\"Monthly step count:\")\n",
        "for m in np.unique(months):\n",
        "    print(m, steps[months == m].sum())\n",
        "\n",
        "print(\"\\nSleep vs mood correlation:\", np.corrcoef(sleep, mood)[0, 1])\n",
        "\n",
        "\n",
        "weeks = (dates - dates[0]) // 7\n",
        "print(\"\\nWeekly summary:\")\n",
        "for w in np.unique(weeks):\n",
        "    mask = weeks == w\n",
        "    print(f\"Week {w+1}: steps={steps[mask].mean():.0f}, \"\n",
        "          f\"sleep={sleep[mask].mean():.2f}, mood={mood[mask].mean():.2f}\")\n",
        "\n"
      ]
    },
    {
      "cell_type": "markdown",
      "id": "e7c0e1dc",
      "metadata": {
        "id": "e7c0e1dc"
      },
      "source": [
        "## <a name='conclusion'></a>1️⃣7️⃣ Conclusion & Further Practice\n",
        "Congrats on covering **all core NumPy topics** from your five lecture notebooks!\n",
        "\n",
        "*Keep experimenting, read the official docs, and try converting your NumPy pipelines into Pandas or JAX for more fun.*"
      ]
    }
  ],
  "metadata": {
    "colab": {
      "provenance": []
    },
    "kernelspec": {
      "display_name": "venv (3.12.4)",
      "language": "python",
      "name": "python3"
    },
    "language_info": {
      "codemirror_mode": {
        "name": "ipython",
        "version": 3
      },
      "file_extension": ".py",
      "mimetype": "text/x-python",
      "name": "python",
      "nbconvert_exporter": "python",
      "pygments_lexer": "ipython3",
      "version": "3.12.4"
    }
  },
  "nbformat": 4,
  "nbformat_minor": 5
}

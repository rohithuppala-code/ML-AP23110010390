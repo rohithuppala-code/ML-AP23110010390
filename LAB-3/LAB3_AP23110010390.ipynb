{
  "cells": [
    {
      "cell_type": "markdown",
      "id": "7b5d3ee0",
      "metadata": {
        "id": "7b5d3ee0"
      },
      "source": [
        "# 🎯 Feature Engineering — Part A: Individual Concepts (Colab-Ready)\n",
        "\n",
        "**Updated:** 2025-08-22\n",
        "\n",
        "This notebook is designed for **first-time learners**. You will practice each feature engineering step **individually** (no pipelines yet), so you can clearly see *what each step does* and *why it matters*.\n",
        "\n",
        "**What you'll practice:**\n",
        "- Dataset loading & quick audit\n",
        "- Handling missing values (drop, impute)\n",
        "- Scaling & normalization (standardization, min-max, per-row normalization)\n",
        "- Encoding categorical variables (ordinal vs one-hot)\n",
        "- Feature transformations (log, power, polynomial)\n",
        "- Simple dimensionality reduction (PCA) for visualization\n",
        "- Short exercises after each section\n",
        "\n",
        "> Use this Part A first. After you are comfortable, move to **Part B (Pipelines)** to automate and combine steps."
      ]
    },
    {
      "cell_type": "markdown",
      "id": "04499a3f",
      "metadata": {
        "id": "04499a3f"
      },
      "source": [
        "## 0) Setup"
      ]
    },
    {
      "cell_type": "code",
      "execution_count": 34,
      "id": "d1cd58db",
      "metadata": {
        "id": "d1cd58db"
      },
      "outputs": [],
      "source": [
        "# If running in Google Colab, you can install optional packages here:\n",
        "# !pip install -q statsmodels==0.14.2\n",
        "\n",
        "import numpy as np\n",
        "import pandas as pd\n",
        "import matplotlib.pyplot as plt\n",
        "\n",
        "from sklearn.impute import SimpleImputer, KNNImputer\n",
        "from sklearn.preprocessing import StandardScaler, MinMaxScaler, Normalizer, OrdinalEncoder\n",
        "from sklearn.preprocessing import PolynomialFeatures, PowerTransformer\n",
        "from sklearn.decomposition import PCA\n",
        "from sklearn.metrics import mean_squared_error\n",
        "\n",
        "pd.set_option('display.max_columns', 100)"
      ]
    },
    {
      "cell_type": "markdown",
      "id": "3de06ce7",
      "metadata": {
        "id": "3de06ce7"
      },
      "source": [
        "## 1) Dataset Setup & Quick Audit"
      ]
    },
    {
      "cell_type": "code",
      "execution_count": 35,
      "id": "8fda59e9",
      "metadata": {
        "colab": {
          "base_uri": "https://localhost:8080/",
          "height": 223
        },
        "id": "8fda59e9",
        "outputId": "0081d4e4-a08d-4477-e740-55e11cca2411"
      },
      "outputs": [
        {
          "name": "stdout",
          "output_type": "stream",
          "text": [
            "Shape: (891, 12)\n"
          ]
        },
        {
          "data": {
            "text/html": [
              "<div>\n",
              "<style scoped>\n",
              "    .dataframe tbody tr th:only-of-type {\n",
              "        vertical-align: middle;\n",
              "    }\n",
              "\n",
              "    .dataframe tbody tr th {\n",
              "        vertical-align: top;\n",
              "    }\n",
              "\n",
              "    .dataframe thead th {\n",
              "        text-align: right;\n",
              "    }\n",
              "</style>\n",
              "<table border=\"1\" class=\"dataframe\">\n",
              "  <thead>\n",
              "    <tr style=\"text-align: right;\">\n",
              "      <th></th>\n",
              "      <th>PassengerId</th>\n",
              "      <th>Survived</th>\n",
              "      <th>Pclass</th>\n",
              "      <th>Name</th>\n",
              "      <th>Sex</th>\n",
              "      <th>Age</th>\n",
              "      <th>SibSp</th>\n",
              "      <th>Parch</th>\n",
              "      <th>Ticket</th>\n",
              "      <th>Fare</th>\n",
              "      <th>Cabin</th>\n",
              "      <th>Embarked</th>\n",
              "    </tr>\n",
              "  </thead>\n",
              "  <tbody>\n",
              "    <tr>\n",
              "      <th>0</th>\n",
              "      <td>1</td>\n",
              "      <td>0</td>\n",
              "      <td>3</td>\n",
              "      <td>Braund, Mr. Owen Harris</td>\n",
              "      <td>male</td>\n",
              "      <td>22.0</td>\n",
              "      <td>1</td>\n",
              "      <td>0</td>\n",
              "      <td>A/5 21171</td>\n",
              "      <td>7.2500</td>\n",
              "      <td>NaN</td>\n",
              "      <td>S</td>\n",
              "    </tr>\n",
              "    <tr>\n",
              "      <th>1</th>\n",
              "      <td>2</td>\n",
              "      <td>1</td>\n",
              "      <td>1</td>\n",
              "      <td>Cumings, Mrs. John Bradley (Florence Briggs Th...</td>\n",
              "      <td>female</td>\n",
              "      <td>38.0</td>\n",
              "      <td>1</td>\n",
              "      <td>0</td>\n",
              "      <td>PC 17599</td>\n",
              "      <td>71.2833</td>\n",
              "      <td>C85</td>\n",
              "      <td>C</td>\n",
              "    </tr>\n",
              "    <tr>\n",
              "      <th>2</th>\n",
              "      <td>3</td>\n",
              "      <td>1</td>\n",
              "      <td>3</td>\n",
              "      <td>Heikkinen, Miss. Laina</td>\n",
              "      <td>female</td>\n",
              "      <td>26.0</td>\n",
              "      <td>0</td>\n",
              "      <td>0</td>\n",
              "      <td>STON/O2. 3101282</td>\n",
              "      <td>7.9250</td>\n",
              "      <td>NaN</td>\n",
              "      <td>S</td>\n",
              "    </tr>\n",
              "    <tr>\n",
              "      <th>3</th>\n",
              "      <td>4</td>\n",
              "      <td>1</td>\n",
              "      <td>1</td>\n",
              "      <td>Futrelle, Mrs. Jacques Heath (Lily May Peel)</td>\n",
              "      <td>female</td>\n",
              "      <td>35.0</td>\n",
              "      <td>1</td>\n",
              "      <td>0</td>\n",
              "      <td>113803</td>\n",
              "      <td>53.1000</td>\n",
              "      <td>C123</td>\n",
              "      <td>S</td>\n",
              "    </tr>\n",
              "    <tr>\n",
              "      <th>4</th>\n",
              "      <td>5</td>\n",
              "      <td>0</td>\n",
              "      <td>3</td>\n",
              "      <td>Allen, Mr. William Henry</td>\n",
              "      <td>male</td>\n",
              "      <td>35.0</td>\n",
              "      <td>0</td>\n",
              "      <td>0</td>\n",
              "      <td>373450</td>\n",
              "      <td>8.0500</td>\n",
              "      <td>NaN</td>\n",
              "      <td>S</td>\n",
              "    </tr>\n",
              "  </tbody>\n",
              "</table>\n",
              "</div>"
            ],
            "text/plain": [
              "   PassengerId  Survived  Pclass  \\\n",
              "0            1         0       3   \n",
              "1            2         1       1   \n",
              "2            3         1       3   \n",
              "3            4         1       1   \n",
              "4            5         0       3   \n",
              "\n",
              "                                                Name     Sex   Age  SibSp  \\\n",
              "0                            Braund, Mr. Owen Harris    male  22.0      1   \n",
              "1  Cumings, Mrs. John Bradley (Florence Briggs Th...  female  38.0      1   \n",
              "2                             Heikkinen, Miss. Laina  female  26.0      0   \n",
              "3       Futrelle, Mrs. Jacques Heath (Lily May Peel)  female  35.0      1   \n",
              "4                           Allen, Mr. William Henry    male  35.0      0   \n",
              "\n",
              "   Parch            Ticket     Fare Cabin Embarked  \n",
              "0      0         A/5 21171   7.2500   NaN        S  \n",
              "1      0          PC 17599  71.2833   C85        C  \n",
              "2      0  STON/O2. 3101282   7.9250   NaN        S  \n",
              "3      0            113803  53.1000  C123        S  \n",
              "4      0            373450   8.0500   NaN        S  "
            ]
          },
          "execution_count": 35,
          "metadata": {},
          "output_type": "execute_result"
        }
      ],
      "source": [
        "# Option A: Load Titanic from a stable GitHub mirror (recommended for first run)\n",
        "URL = \"https://raw.githubusercontent.com/datasciencedojo/datasets/master/titanic.csv\"\n",
        "df = pd.read_csv(URL)\n",
        "print(\"Shape:\", df.shape)\n",
        "df.head()"
      ]
    },
    {
      "cell_type": "code",
      "execution_count": 36,
      "id": "bd6588cc",
      "metadata": {
        "id": "bd6588cc"
      },
      "outputs": [],
      "source": [
        "# Option B: Upload your own CSV (uncomment to use in Colab)\n",
        "# from google.colab import files\n",
        "# up = files.upload()  # pick file\n",
        "# import io\n",
        "# df = pd.read_csv(io.BytesIO(up[list(up.keys())[0]]))\n",
        "# print(\"Shape:\", df.shape)\n",
        "# df.head()"
      ]
    },
    {
      "cell_type": "code",
      "execution_count": 37,
      "id": "1020b508",
      "metadata": {
        "colab": {
          "base_uri": "https://localhost:8080/",
          "height": 928
        },
        "id": "1020b508",
        "outputId": "a57d5f5c-3788-4d25-93aa-224514ebf782"
      },
      "outputs": [
        {
          "name": "stdout",
          "output_type": "stream",
          "text": [
            "\n",
            "Info:\n",
            "<class 'pandas.core.frame.DataFrame'>\n",
            "RangeIndex: 891 entries, 0 to 890\n",
            "Data columns (total 12 columns):\n",
            " #   Column       Non-Null Count  Dtype  \n",
            "---  ------       --------------  -----  \n",
            " 0   PassengerId  891 non-null    int64  \n",
            " 1   Survived     891 non-null    int64  \n",
            " 2   Pclass       891 non-null    int64  \n",
            " 3   Name         891 non-null    object \n",
            " 4   Sex          891 non-null    object \n",
            " 5   Age          714 non-null    float64\n",
            " 6   SibSp        891 non-null    int64  \n",
            " 7   Parch        891 non-null    int64  \n",
            " 8   Ticket       891 non-null    object \n",
            " 9   Fare         891 non-null    float64\n",
            " 10  Cabin        204 non-null    object \n",
            " 11  Embarked     889 non-null    object \n",
            "dtypes: float64(2), int64(5), object(5)\n",
            "memory usage: 83.7+ KB\n",
            "\n",
            "Missing values per column:\n",
            "Cabin          687\n",
            "Age            177\n",
            "Embarked         2\n",
            "PassengerId      0\n",
            "Name             0\n",
            "Pclass           0\n",
            "Survived         0\n",
            "Sex              0\n",
            "Parch            0\n",
            "SibSp            0\n",
            "Fare             0\n",
            "Ticket           0\n",
            "dtype: int64\n",
            "\n",
            "Numeric describe:\n"
          ]
        },
        {
          "data": {
            "text/html": [
              "<div>\n",
              "<style scoped>\n",
              "    .dataframe tbody tr th:only-of-type {\n",
              "        vertical-align: middle;\n",
              "    }\n",
              "\n",
              "    .dataframe tbody tr th {\n",
              "        vertical-align: top;\n",
              "    }\n",
              "\n",
              "    .dataframe thead th {\n",
              "        text-align: right;\n",
              "    }\n",
              "</style>\n",
              "<table border=\"1\" class=\"dataframe\">\n",
              "  <thead>\n",
              "    <tr style=\"text-align: right;\">\n",
              "      <th></th>\n",
              "      <th>count</th>\n",
              "      <th>mean</th>\n",
              "      <th>std</th>\n",
              "      <th>min</th>\n",
              "      <th>25%</th>\n",
              "      <th>50%</th>\n",
              "      <th>75%</th>\n",
              "      <th>max</th>\n",
              "    </tr>\n",
              "  </thead>\n",
              "  <tbody>\n",
              "    <tr>\n",
              "      <th>PassengerId</th>\n",
              "      <td>891.0</td>\n",
              "      <td>446.000000</td>\n",
              "      <td>257.353842</td>\n",
              "      <td>1.00</td>\n",
              "      <td>223.5000</td>\n",
              "      <td>446.0000</td>\n",
              "      <td>668.5</td>\n",
              "      <td>891.0000</td>\n",
              "    </tr>\n",
              "    <tr>\n",
              "      <th>Survived</th>\n",
              "      <td>891.0</td>\n",
              "      <td>0.383838</td>\n",
              "      <td>0.486592</td>\n",
              "      <td>0.00</td>\n",
              "      <td>0.0000</td>\n",
              "      <td>0.0000</td>\n",
              "      <td>1.0</td>\n",
              "      <td>1.0000</td>\n",
              "    </tr>\n",
              "    <tr>\n",
              "      <th>Pclass</th>\n",
              "      <td>891.0</td>\n",
              "      <td>2.308642</td>\n",
              "      <td>0.836071</td>\n",
              "      <td>1.00</td>\n",
              "      <td>2.0000</td>\n",
              "      <td>3.0000</td>\n",
              "      <td>3.0</td>\n",
              "      <td>3.0000</td>\n",
              "    </tr>\n",
              "    <tr>\n",
              "      <th>Age</th>\n",
              "      <td>714.0</td>\n",
              "      <td>29.699118</td>\n",
              "      <td>14.526497</td>\n",
              "      <td>0.42</td>\n",
              "      <td>20.1250</td>\n",
              "      <td>28.0000</td>\n",
              "      <td>38.0</td>\n",
              "      <td>80.0000</td>\n",
              "    </tr>\n",
              "    <tr>\n",
              "      <th>SibSp</th>\n",
              "      <td>891.0</td>\n",
              "      <td>0.523008</td>\n",
              "      <td>1.102743</td>\n",
              "      <td>0.00</td>\n",
              "      <td>0.0000</td>\n",
              "      <td>0.0000</td>\n",
              "      <td>1.0</td>\n",
              "      <td>8.0000</td>\n",
              "    </tr>\n",
              "    <tr>\n",
              "      <th>Parch</th>\n",
              "      <td>891.0</td>\n",
              "      <td>0.381594</td>\n",
              "      <td>0.806057</td>\n",
              "      <td>0.00</td>\n",
              "      <td>0.0000</td>\n",
              "      <td>0.0000</td>\n",
              "      <td>0.0</td>\n",
              "      <td>6.0000</td>\n",
              "    </tr>\n",
              "    <tr>\n",
              "      <th>Fare</th>\n",
              "      <td>891.0</td>\n",
              "      <td>32.204208</td>\n",
              "      <td>49.693429</td>\n",
              "      <td>0.00</td>\n",
              "      <td>7.9104</td>\n",
              "      <td>14.4542</td>\n",
              "      <td>31.0</td>\n",
              "      <td>512.3292</td>\n",
              "    </tr>\n",
              "  </tbody>\n",
              "</table>\n",
              "</div>"
            ],
            "text/plain": [
              "             count        mean         std   min       25%       50%    75%  \\\n",
              "PassengerId  891.0  446.000000  257.353842  1.00  223.5000  446.0000  668.5   \n",
              "Survived     891.0    0.383838    0.486592  0.00    0.0000    0.0000    1.0   \n",
              "Pclass       891.0    2.308642    0.836071  1.00    2.0000    3.0000    3.0   \n",
              "Age          714.0   29.699118   14.526497  0.42   20.1250   28.0000   38.0   \n",
              "SibSp        891.0    0.523008    1.102743  0.00    0.0000    0.0000    1.0   \n",
              "Parch        891.0    0.381594    0.806057  0.00    0.0000    0.0000    0.0   \n",
              "Fare         891.0   32.204208   49.693429  0.00    7.9104   14.4542   31.0   \n",
              "\n",
              "                  max  \n",
              "PassengerId  891.0000  \n",
              "Survived       1.0000  \n",
              "Pclass         3.0000  \n",
              "Age           80.0000  \n",
              "SibSp          8.0000  \n",
              "Parch          6.0000  \n",
              "Fare         512.3292  "
            ]
          },
          "execution_count": 37,
          "metadata": {},
          "output_type": "execute_result"
        }
      ],
      "source": [
        "# Quick audit\n",
        "print(\"\\nInfo:\")\n",
        "df.info()\n",
        "print(\"\\nMissing values per column:\")\n",
        "print(df.isna().sum().sort_values(ascending=False))\n",
        "print(\"\\nNumeric describe:\")\n",
        "df.describe().T"
      ]
    },
    {
      "cell_type": "markdown",
      "id": "84781f19",
      "metadata": {
        "id": "84781f19"
      },
      "source": [
        "## 2) Handling Missing Values (Individually)\n",
        "\n",
        "**Goal:** Learn when to **drop** vs **impute**.\n",
        "\n",
        "**Common choices**\n",
        "- Numeric: mean/median\n",
        "- Categorical: most frequent\n",
        "\n",
        "We'll practice on Titanic columns like `Age`, `Embarked`, and `Cabin`."
      ]
    },
    {
      "cell_type": "code",
      "execution_count": 38,
      "id": "865e4694",
      "metadata": {
        "colab": {
          "base_uri": "https://localhost:8080/",
          "height": 397
        },
        "id": "865e4694",
        "outputId": "67bedaff-141b-4499-add4-544db4e3f569"
      },
      "outputs": [
        {
          "data": {
            "text/plain": [
              "Cabin          687\n",
              "Age            177\n",
              "Embarked         2\n",
              "PassengerId      0\n",
              "Name             0\n",
              "Pclass           0\n",
              "Survived         0\n",
              "Sex              0\n",
              "Parch            0\n",
              "SibSp            0\n",
              "dtype: int64"
            ]
          },
          "execution_count": 38,
          "metadata": {},
          "output_type": "execute_result"
        }
      ],
      "source": [
        "# View null counts\n",
        "df.isna().sum().sort_values(ascending=False).head(10)"
      ]
    },
    {
      "cell_type": "code",
      "execution_count": 39,
      "id": "32ae03bb",
      "metadata": {
        "colab": {
          "base_uri": "https://localhost:8080/"
        },
        "id": "32ae03bb",
        "outputId": "bd5ea220-4c76-4d04-a0cd-c218e485ab23"
      },
      "outputs": [
        {
          "name": "stdout",
          "output_type": "stream",
          "text": [
            "Original: (891, 12) After drop: (712, 12)\n"
          ]
        }
      ],
      "source": [
        "df_drop_rows = df.dropna(subset=['Age', 'Embarked'])# 2.1 DROP example (use cautiously)\n",
        "  # drop rows where these are null\n",
        "print(\"Original:\", df.shape, \"After drop:\", df_drop_rows.shape)"
      ]
    },
    {
      "cell_type": "code",
      "execution_count": 40,
      "id": "1613fc7c",
      "metadata": {
        "colab": {
          "base_uri": "https://localhost:8080/",
          "height": 397
        },
        "id": "1613fc7c",
        "outputId": "5f6f7830-a7e9-4ad1-ee45-ad52d7d04324"
      },
      "outputs": [
        {
          "data": {
            "text/plain": [
              "PassengerId    0\n",
              "Survived       0\n",
              "Pclass         0\n",
              "Name           0\n",
              "Sex            0\n",
              "Age            0\n",
              "SibSp          0\n",
              "Parch          0\n",
              "Ticket         0\n",
              "Fare           0\n",
              "dtype: int64"
            ]
          },
          "execution_count": 40,
          "metadata": {},
          "output_type": "execute_result"
        }
      ],
      "source": [
        "# 2.2 SIMPLE IMPUTE example\n",
        "df_imp = df.copy()\n",
        "# Numeric (Age): median\n",
        "df_imp['Age'] = df_imp['Age'].fillna(df_imp['Age'].median())\n",
        "# Categorical (Embarked): most frequent\n",
        "df_imp['Embarked'] = df_imp['Embarked'].fillna(df_imp['Embarked'].mode()[0])\n",
        "\n",
        "# 'Cabin' is very sparse; we can fill with \"Unknown\"\n",
        "df_imp['Cabin'] = df_imp['Cabin'].fillna('Unknown')\n",
        "\n",
        "df_imp.isna().sum().head(10)"
      ]
    },
    {
      "cell_type": "code",
      "execution_count": 41,
      "id": "346a57b5",
      "metadata": {
        "colab": {
          "base_uri": "https://localhost:8080/",
          "height": 206
        },
        "id": "346a57b5",
        "outputId": "62bb8813-0160-4884-e6a0-2f328b59558d"
      },
      "outputs": [
        {
          "data": {
            "text/html": [
              "<div>\n",
              "<style scoped>\n",
              "    .dataframe tbody tr th:only-of-type {\n",
              "        vertical-align: middle;\n",
              "    }\n",
              "\n",
              "    .dataframe tbody tr th {\n",
              "        vertical-align: top;\n",
              "    }\n",
              "\n",
              "    .dataframe thead th {\n",
              "        text-align: right;\n",
              "    }\n",
              "</style>\n",
              "<table border=\"1\" class=\"dataframe\">\n",
              "  <thead>\n",
              "    <tr style=\"text-align: right;\">\n",
              "      <th></th>\n",
              "      <th>PassengerId</th>\n",
              "      <th>Survived</th>\n",
              "      <th>Pclass</th>\n",
              "      <th>Age</th>\n",
              "      <th>SibSp</th>\n",
              "      <th>Parch</th>\n",
              "      <th>Fare</th>\n",
              "    </tr>\n",
              "  </thead>\n",
              "  <tbody>\n",
              "    <tr>\n",
              "      <th>0</th>\n",
              "      <td>1.0</td>\n",
              "      <td>0.0</td>\n",
              "      <td>3.0</td>\n",
              "      <td>22.0</td>\n",
              "      <td>1.0</td>\n",
              "      <td>0.0</td>\n",
              "      <td>7.2500</td>\n",
              "    </tr>\n",
              "    <tr>\n",
              "      <th>1</th>\n",
              "      <td>2.0</td>\n",
              "      <td>1.0</td>\n",
              "      <td>1.0</td>\n",
              "      <td>38.0</td>\n",
              "      <td>1.0</td>\n",
              "      <td>0.0</td>\n",
              "      <td>71.2833</td>\n",
              "    </tr>\n",
              "    <tr>\n",
              "      <th>2</th>\n",
              "      <td>3.0</td>\n",
              "      <td>1.0</td>\n",
              "      <td>3.0</td>\n",
              "      <td>26.0</td>\n",
              "      <td>0.0</td>\n",
              "      <td>0.0</td>\n",
              "      <td>7.9250</td>\n",
              "    </tr>\n",
              "    <tr>\n",
              "      <th>3</th>\n",
              "      <td>4.0</td>\n",
              "      <td>1.0</td>\n",
              "      <td>1.0</td>\n",
              "      <td>35.0</td>\n",
              "      <td>1.0</td>\n",
              "      <td>0.0</td>\n",
              "      <td>53.1000</td>\n",
              "    </tr>\n",
              "    <tr>\n",
              "      <th>4</th>\n",
              "      <td>5.0</td>\n",
              "      <td>0.0</td>\n",
              "      <td>3.0</td>\n",
              "      <td>35.0</td>\n",
              "      <td>0.0</td>\n",
              "      <td>0.0</td>\n",
              "      <td>8.0500</td>\n",
              "    </tr>\n",
              "  </tbody>\n",
              "</table>\n",
              "</div>"
            ],
            "text/plain": [
              "   PassengerId  Survived  Pclass   Age  SibSp  Parch     Fare\n",
              "0          1.0       0.0     3.0  22.0    1.0    0.0   7.2500\n",
              "1          2.0       1.0     1.0  38.0    1.0    0.0  71.2833\n",
              "2          3.0       1.0     3.0  26.0    0.0    0.0   7.9250\n",
              "3          4.0       1.0     1.0  35.0    1.0    0.0  53.1000\n",
              "4          5.0       0.0     3.0  35.0    0.0    0.0   8.0500"
            ]
          },
          "execution_count": 41,
          "metadata": {},
          "output_type": "execute_result"
        }
      ],
      "source": [
        "# 2.3 KNN Imputation (numeric only demonstration)\n",
        "num_cols = df.select_dtypes(include=['number']).columns.tolist()\n",
        "knn_df = df[num_cols].copy()\n",
        "imputer = KNNImputer(n_neighbors=3)\n",
        "knn_imputed = imputer.fit_transform(knn_df)\n",
        "knn_imputed_df = pd.DataFrame(knn_imputed, columns=num_cols)\n",
        "knn_imputed_df.head()"
      ]
    },
    {
      "cell_type": "markdown",
      "id": "9902aff5",
      "metadata": {
        "id": "9902aff5"
      },
      "source": [
        "**📝 Exercise 2**\n",
        "1) Compare **mean vs median** imputation for `Age`. Which preserves the original distribution better?  \n",
        "2) For `Embarked`, try filling with a new category (`'Unknown'`) vs mode. What changes in `value_counts()`?"
      ]
    },
    {
      "cell_type": "code",
      "execution_count": 42,
      "id": "F9axXcfDFEWk",
      "metadata": {
        "colab": {
          "base_uri": "https://localhost:8080/"
        },
        "id": "F9axXcfDFEWk",
        "outputId": "d9baa02b-623a-4a43-f4c6-b98dfc116797"
      },
      "outputs": [
        {
          "name": "stdout",
          "output_type": "stream",
          "text": [
            "Value counts for Age (mean imputed):\n",
            "Age\n",
            "29.699118    177\n",
            "24.000000     30\n",
            "22.000000     27\n",
            "18.000000     26\n",
            "28.000000     25\n",
            "Name: count, dtype: int64\n",
            "\n",
            "Value counts for Age (median imputed):\n",
            "Age\n",
            "28.0    202\n",
            "24.0     30\n",
            "22.0     27\n",
            "18.0     26\n",
            "30.0     25\n",
            "Name: count, dtype: int64\n",
            "\n",
            "Value counts for Embarked (filled with 'Unknown'):\n",
            "Embarked\n",
            "S          644\n",
            "C          168\n",
            "Q           77\n",
            "Unknown      2\n",
            "Name: count, dtype: int64\n",
            "\n",
            "Value counts for Embarked (filled with mode):\n",
            "Embarked\n",
            "S    646\n",
            "C    168\n",
            "Q     77\n",
            "Name: count, dtype: int64\n"
          ]
        }
      ],
      "source": [
        "# Exercise 2 Part 1: Compare mean vs median imputation for Age\n",
        "df_age_mean = df['Age'].fillna(df['Age'].mean())\n",
        "df_age_median = df['Age'].fillna(df['Age'].median())\n",
        "\n",
        "print(\"Value counts for Age (mean imputed):\")\n",
        "print(df_age_mean.value_counts(dropna=False).head()) # Show head as Age has many unique values\n",
        "print(\"\\nValue counts for Age (median imputed):\")\n",
        "print(df_age_median.value_counts(dropna=False).head())\n",
        "\n",
        "\n",
        "# Exercise 2 Part 2: Fill Embarked with 'Unknown' vs mode\n",
        "df_embarked_unknown = df['Embarked'].fillna('Unknown')\n",
        "df_embarked_mode = df['Embarked'].fillna(df['Embarked'].mode()[0])\n",
        "\n",
        "print(\"\\nValue counts for Embarked (filled with 'Unknown'):\")\n",
        "print(df_embarked_unknown.value_counts(dropna=False))\n",
        "\n",
        "print(\"\\nValue counts for Embarked (filled with mode):\")\n",
        "print(df_embarked_mode.value_counts(dropna=False))"
      ]
    },
    {
      "cell_type": "markdown",
      "id": "acba27c3",
      "metadata": {
        "id": "acba27c3"
      },
      "source": [
        "## 3) Scaling & Normalization (Individually)\n",
        "\n",
        "- **Standardization**: z = (x - mean)/std (good for many ML models)\n",
        "- **MinMax scaling**: maps to [0,1] (useful when features have different units)\n",
        "- **Per-row Normalization**: scales each *row vector* to unit norm (useful for text-like frequency vectors)\n",
        "\n",
        "We'll demonstrate on `Fare` and `Age`."
      ]
    },
    {
      "cell_type": "code",
      "execution_count": 43,
      "id": "4c5f5268",
      "metadata": {
        "colab": {
          "base_uri": "https://localhost:8080/",
          "height": 391
        },
        "id": "4c5f5268",
        "outputId": "e79fac0e-4da6-4e3e-9fc5-76e055131293"
      },
      "outputs": [
        {
          "data": {
            "image/png": "[encoded data removed]",
            "text/plain": [
              "<Figure size 1000x400 with 2 Axes>"
            ]
          },
          "metadata": {},
          "output_type": "display_data"
        }
      ],
      "source": [
        "fig, axes = plt.subplots(1, 2, figsize=(10,4))\n",
        "axes[0].hist(df_imp['Age'].dropna(), bins=30)\n",
        "axes[0].set_title('Age - Raw')\n",
        "axes[1].hist(df_imp['Fare'].dropna(), bins=30)\n",
        "axes[1].set_title('Fare - Raw')\n",
        "plt.show()"
      ]
    },
    {
      "cell_type": "code",
      "execution_count": 44,
      "id": "2196adb4",
      "metadata": {
        "colab": {
          "base_uri": "https://localhost:8080/",
          "height": 391
        },
        "id": "2196adb4",
        "outputId": "f828b818-36e0-4d01-ab39-e404e8264e8f"
      },
      "outputs": [
        {
          "data": {
            "image/png": "[encoded data removed]",
            "text/plain": [
              "<Figure size 1000x400 with 2 Axes>"
            ]
          },
          "metadata": {},
          "output_type": "display_data"
        }
      ],
      "source": [
        "sc_std = StandardScaler()\n",
        "sc_mm  = MinMaxScaler()\n",
        "\n",
        "age_std = sc_std.fit_transform(df_imp[['Age']])\n",
        "fare_mm = sc_mm.fit_transform(df_imp[['Fare']])\n",
        "\n",
        "fig, axes = plt.subplots(1, 2, figsize=(10,4))\n",
        "axes[0].hist(age_std.flatten(), bins=30)\n",
        "axes[0].set_title('Age - Standardized')\n",
        "axes[1].hist(fare_mm.flatten(), bins=30)\n",
        "axes[1].set_title('Fare - MinMax [0,1]')\n",
        "plt.show()"
      ]
    },
    {
      "cell_type": "markdown",
      "id": "34d456b1",
      "metadata": {
        "id": "34d456b1"
      },
      "source": [
        "**📝 Exercise 3**\n",
        "1) Standardize `Fare` and plot the histogram.  \n",
        "2) Apply **Normalizer** on `[Age, Fare]` rows and check the first 5 normalized vectors."
      ]
    },
    {
      "cell_type": "code",
      "execution_count": 45,
      "id": "VjwquTG9GXaI",
      "metadata": {
        "colab": {
          "base_uri": "https://localhost:8080/",
          "height": 531
        },
        "id": "VjwquTG9GXaI",
        "outputId": "7fd2dc11-a4e0-4566-ef91-61d25018a421"
      },
      "outputs": [
        {
          "data": {
            "image/png": "[encoded data removed]",
            "text/plain": [
              "<Figure size 600x400 with 1 Axes>"
            ]
          },
          "metadata": {},
          "output_type": "display_data"
        },
        {
          "name": "stdout",
          "output_type": "stream",
          "text": [
            "\n",
            "First 5 normalized [Age, Fare] vectors:\n",
            "[[0.94975704 0.31298812]\n",
            " [0.47041706 0.88244422]\n",
            " [0.95655127 0.29156418]\n",
            " [0.55033828 0.83494178]\n",
            " [0.97455519 0.22414769]]\n"
          ]
        }
      ],
      "source": [
        "# Exercise 3 Part 1: Standardize Fare and plot the histogram.\n",
        "# We will use the imputed dataframe df_imp from previous steps\n",
        "from sklearn.preprocessing import StandardScaler\n",
        "import matplotlib.pyplot as plt\n",
        "\n",
        "scaler = StandardScaler()\n",
        "df_imp['Fare_standardized'] = scaler.fit_transform(df_imp[['Fare']])\n",
        "\n",
        "# Plotting the histogram for standardized Fare\n",
        "plt.figure(figsize=(6, 4))\n",
        "plt.hist(df_imp['Fare_standardized'], bins=30)\n",
        "plt.title('Fare - Standardized')\n",
        "plt.xlabel('Standardized Fare')\n",
        "plt.ylabel('Frequency')\n",
        "plt.show()\n",
        "\n",
        "\n",
        "# Exercise 3 Part 2: Apply Normalizer on [Age, Fare] rows and check the first 5 normalized vectors.\n",
        "from sklearn.preprocessing import Normalizer\n",
        "age_fare_data = df_imp[['Age', 'Fare']].dropna()\n",
        "\n",
        "normalizer = Normalizer()\n",
        "normalized_age_fare = normalizer.fit_transform(age_fare_data)\n",
        "\n",
        "print(\"\\nFirst 5 normalized [Age, Fare] vectors:\")\n",
        "print(normalized_age_fare[:5])"
      ]
    },
    {
      "cell_type": "markdown",
      "id": "fdf2e146",
      "metadata": {
        "id": "fdf2e146"
      },
      "source": [
        "## 4) Encoding Categorical Variables (Individually)\n",
        "\n",
        "- **Ordinal/Label encoding**: map categories to integers (assumes order or used with tree models).  \n",
        "- **One-Hot encoding**: binary column per category (no order assumption).\n",
        "\n",
        "We'll use `Sex` and `Embarked` as examples."
      ]
    },
    {
      "cell_type": "code",
      "execution_count": 46,
      "id": "8a961c29",
      "metadata": {
        "colab": {
          "base_uri": "https://localhost:8080/",
          "height": 206
        },
        "id": "8a961c29",
        "outputId": "0a87bf0e-60a8-4b2a-9618-f65cda26f5c3"
      },
      "outputs": [
        {
          "data": {
            "text/html": [
              "<div>\n",
              "<style scoped>\n",
              "    .dataframe tbody tr th:only-of-type {\n",
              "        vertical-align: middle;\n",
              "    }\n",
              "\n",
              "    .dataframe tbody tr th {\n",
              "        vertical-align: top;\n",
              "    }\n",
              "\n",
              "    .dataframe thead th {\n",
              "        text-align: right;\n",
              "    }\n",
              "</style>\n",
              "<table border=\"1\" class=\"dataframe\">\n",
              "  <thead>\n",
              "    <tr style=\"text-align: right;\">\n",
              "      <th></th>\n",
              "      <th>Sex_ord</th>\n",
              "      <th>Embarked_ord</th>\n",
              "    </tr>\n",
              "  </thead>\n",
              "  <tbody>\n",
              "    <tr>\n",
              "      <th>0</th>\n",
              "      <td>1.0</td>\n",
              "      <td>2.0</td>\n",
              "    </tr>\n",
              "    <tr>\n",
              "      <th>1</th>\n",
              "      <td>0.0</td>\n",
              "      <td>0.0</td>\n",
              "    </tr>\n",
              "    <tr>\n",
              "      <th>2</th>\n",
              "      <td>0.0</td>\n",
              "      <td>2.0</td>\n",
              "    </tr>\n",
              "    <tr>\n",
              "      <th>3</th>\n",
              "      <td>0.0</td>\n",
              "      <td>2.0</td>\n",
              "    </tr>\n",
              "    <tr>\n",
              "      <th>4</th>\n",
              "      <td>1.0</td>\n",
              "      <td>2.0</td>\n",
              "    </tr>\n",
              "  </tbody>\n",
              "</table>\n",
              "</div>"
            ],
            "text/plain": [
              "   Sex_ord  Embarked_ord\n",
              "0      1.0           2.0\n",
              "1      0.0           0.0\n",
              "2      0.0           2.0\n",
              "3      0.0           2.0\n",
              "4      1.0           2.0"
            ]
          },
          "execution_count": 46,
          "metadata": {},
          "output_type": "execute_result"
        }
      ],
      "source": [
        "# 4.1 Ordinal encoding demo (note: no real order in Sex/Embarked; this is just to illustrate)\n",
        "enc = OrdinalEncoder()\n",
        "ord_demo = df_imp[['Sex','Embarked']].copy()\n",
        "ord_vals = enc.fit_transform(ord_demo)\n",
        "pd.DataFrame(ord_vals, columns=['Sex_ord','Embarked_ord']).head()"
      ]
    },
    {
      "cell_type": "code",
      "execution_count": 47,
      "id": "fb67c353",
      "metadata": {
        "colab": {
          "base_uri": "https://localhost:8080/",
          "height": 206
        },
        "id": "fb67c353",
        "outputId": "7b4b7919-0e94-493e-d630-fbd022aacf91"
      },
      "outputs": [
        {
          "data": {
            "text/html": [
              "<div>\n",
              "<style scoped>\n",
              "    .dataframe tbody tr th:only-of-type {\n",
              "        vertical-align: middle;\n",
              "    }\n",
              "\n",
              "    .dataframe tbody tr th {\n",
              "        vertical-align: top;\n",
              "    }\n",
              "\n",
              "    .dataframe thead th {\n",
              "        text-align: right;\n",
              "    }\n",
              "</style>\n",
              "<table border=\"1\" class=\"dataframe\">\n",
              "  <thead>\n",
              "    <tr style=\"text-align: right;\">\n",
              "      <th></th>\n",
              "      <th>Survived</th>\n",
              "      <th>Age</th>\n",
              "      <th>Fare</th>\n",
              "      <th>Sex_female</th>\n",
              "      <th>Sex_male</th>\n",
              "      <th>Embarked_C</th>\n",
              "      <th>Embarked_Q</th>\n",
              "      <th>Embarked_S</th>\n",
              "    </tr>\n",
              "  </thead>\n",
              "  <tbody>\n",
              "    <tr>\n",
              "      <th>0</th>\n",
              "      <td>0</td>\n",
              "      <td>22.0</td>\n",
              "      <td>7.2500</td>\n",
              "      <td>False</td>\n",
              "      <td>True</td>\n",
              "      <td>False</td>\n",
              "      <td>False</td>\n",
              "      <td>True</td>\n",
              "    </tr>\n",
              "    <tr>\n",
              "      <th>1</th>\n",
              "      <td>1</td>\n",
              "      <td>38.0</td>\n",
              "      <td>71.2833</td>\n",
              "      <td>True</td>\n",
              "      <td>False</td>\n",
              "      <td>True</td>\n",
              "      <td>False</td>\n",
              "      <td>False</td>\n",
              "    </tr>\n",
              "    <tr>\n",
              "      <th>2</th>\n",
              "      <td>1</td>\n",
              "      <td>26.0</td>\n",
              "      <td>7.9250</td>\n",
              "      <td>True</td>\n",
              "      <td>False</td>\n",
              "      <td>False</td>\n",
              "      <td>False</td>\n",
              "      <td>True</td>\n",
              "    </tr>\n",
              "    <tr>\n",
              "      <th>3</th>\n",
              "      <td>1</td>\n",
              "      <td>35.0</td>\n",
              "      <td>53.1000</td>\n",
              "      <td>True</td>\n",
              "      <td>False</td>\n",
              "      <td>False</td>\n",
              "      <td>False</td>\n",
              "      <td>True</td>\n",
              "    </tr>\n",
              "    <tr>\n",
              "      <th>4</th>\n",
              "      <td>0</td>\n",
              "      <td>35.0</td>\n",
              "      <td>8.0500</td>\n",
              "      <td>False</td>\n",
              "      <td>True</td>\n",
              "      <td>False</td>\n",
              "      <td>False</td>\n",
              "      <td>True</td>\n",
              "    </tr>\n",
              "  </tbody>\n",
              "</table>\n",
              "</div>"
            ],
            "text/plain": [
              "   Survived   Age     Fare  Sex_female  Sex_male  Embarked_C  Embarked_Q  \\\n",
              "0         0  22.0   7.2500       False      True       False       False   \n",
              "1         1  38.0  71.2833        True     False        True       False   \n",
              "2         1  26.0   7.9250        True     False       False       False   \n",
              "3         1  35.0  53.1000        True     False       False       False   \n",
              "4         0  35.0   8.0500       False      True       False       False   \n",
              "\n",
              "   Embarked_S  \n",
              "0        True  \n",
              "1       False  \n",
              "2        True  \n",
              "3        True  \n",
              "4        True  "
            ]
          },
          "execution_count": 47,
          "metadata": {},
          "output_type": "execute_result"
        }
      ],
      "source": [
        "# 4.2 One-Hot encoding demo with pandas\n",
        "ohe_embarked = pd.get_dummies(df_imp['Embarked'], prefix='Embarked')\n",
        "ohe_sex = pd.get_dummies(df_imp['Sex'], prefix='Sex')\n",
        "encoded_df = pd.concat([df_imp[['Survived','Age','Fare']], ohe_sex, ohe_embarked], axis=1)\n",
        "encoded_df.head()"
      ]
    },
    {
      "cell_type": "markdown",
      "id": "5be0cd1f",
      "metadata": {
        "id": "5be0cd1f"
      },
      "source": [
        "**📝 Exercise 4**\n",
        "1) Compare the **number of features** produced by ordinal vs one-hot for `Embarked`.  \n",
        "2) Why might one-hot be safer for linear models?"
      ]
    },
    {
      "cell_type": "code",
      "execution_count": 48,
      "id": "5t_7kWOBLnmL",
      "metadata": {
        "colab": {
          "base_uri": "https://localhost:8080/"
        },
        "id": "5t_7kWOBLnmL",
        "outputId": "281e2e17-636d-42da-9b5c-d4ea730098ba"
      },
      "outputs": [
        {
          "name": "stdout",
          "output_type": "stream",
          "text": [
            "Number of features after Ordinal Encoding Embarked: 1\n",
            "Number of features after One-Hot Encoding Embarked: 3\n",
            "\n",
            "Why might one-hot encoding be safer for linear models?\n",
            "One-hot encoding makes separate 'yes' or 'no' columns for each category.\n",
            "This is safer because linear models (like the one we used in Exercise 7 optional part) understand numbers.\n",
            "If we used ordinal encoding (just numbers like 0, 1, 2), the model might think that category '2' is somehow 'bigger' or 'twice' category '1'.\n",
            "But for things like 'Embarked' (where people got on the ship), there's no natural order like that.\n",
            "One-hot encoding avoids giving the model a wrong idea about the relationship between categories.\n"
          ]
        }
      ],
      "source": [
        "# Exercise 4 Part 1: Compare the number of features produced by ordinal vs one-hot for Embarked.\n",
        "# We'll use the 'Embarked' column from our cleaned-up data (df_imp).\n",
        "# We used pd.get_dummies() before, which is a simple way to do this.\n",
        "ohe_embarked_basic = pd.get_dummies(df_imp['Embarked'], prefix='Embarked')\n",
        "\n",
        "print(\"Number of features after Ordinal Encoding Embarked: 1\")\n",
        "print(f\"Number of features after One-Hot Encoding Embarked: {ohe_embarked_basic.shape[1]}\")\n",
        "\n",
        "\n",
        "# Exercise 4 Part 2: Why might one-hot be safer for linear models?\n",
        "print(\"\\nWhy might one-hot encoding be safer for linear models?\")\n",
        "print(\"One-hot encoding makes separate 'yes' or 'no' columns for each category.\")\n",
        "print(\"This is safer because linear models (like the one we used in Exercise 7 optional part) understand numbers.\")\n",
        "print(\"If we used ordinal encoding (just numbers like 0, 1, 2), the model might think that category '2' is somehow 'bigger' or 'twice' category '1'.\")\n",
        "print(\"But for things like 'Embarked' (where people got on the ship), there's no natural order like that.\")\n",
        "print(\"One-hot encoding avoids giving the model a wrong idea about the relationship between categories.\")"
      ]
    },
    {
      "cell_type": "markdown",
      "id": "8c161dfa",
      "metadata": {
        "id": "8c161dfa"
      },
      "source": [
        "## 5) Feature Transformation (Individually)\n",
        "\n",
        "- **Log transform**: t = log1p(x) for right-skewed positive data (e.g., Fare).\n",
        "- **Power transform**: Yeo-Johnson can handle zero/negative values; stabilizes variance.\n",
        "- **Polynomial features**: create interactions/quadratics for simple non-linear modeling.\n",
        "\n",
        "We'll use `Fare` and `Age`."
      ]
    },
    {
      "cell_type": "code",
      "execution_count": 49,
      "id": "1c5012b4",
      "metadata": {
        "colab": {
          "base_uri": "https://localhost:8080/",
          "height": 391
        },
        "id": "1c5012b4",
        "outputId": "3ebddf91-6f00-4891-a98e-23ec91ad21c4"
      },
      "outputs": [
        {
          "data": {
            "image/png": "[encoded data removed]",
            "text/plain": [
              "<Figure size 1000x400 with 2 Axes>"
            ]
          },
          "metadata": {},
          "output_type": "display_data"
        }
      ],
      "source": [
        "# 5.1 Log transform on Fare (positive values)\n",
        "fare_raw = df_imp['Fare'].dropna().values.reshape(-1,1)\n",
        "fare_log = np.log1p(fare_raw)\n",
        "\n",
        "fig, axes = plt.subplots(1, 2, figsize=(10,4))\n",
        "axes[0].hist(fare_raw.flatten(), bins=30)\n",
        "axes[0].set_title('Fare - Raw')\n",
        "axes[1].hist(fare_log.flatten(), bins=30)\n",
        "axes[1].set_title('Fare - log1p')\n",
        "plt.show()"
      ]
    },
    {
      "cell_type": "code",
      "execution_count": 50,
      "id": "c8c34a54",
      "metadata": {
        "colab": {
          "base_uri": "https://localhost:8080/",
          "height": 391
        },
        "id": "c8c34a54",
        "outputId": "4dfa182c-7744-4c87-bcd0-b8cae24f813f"
      },
      "outputs": [
        {
          "data": {
            "image/png": "[encoded data removed]",
            "text/plain": [
              "<Figure size 1000x400 with 2 Axes>"
            ]
          },
          "metadata": {},
          "output_type": "display_data"
        }
      ],
      "source": [
        "# 5.2 Power transform (Yeo-Johnson) on [Age, Fare]\n",
        "pt = PowerTransformer(method='yeo-johnson')\n",
        "af = df_imp[['Age','Fare']].dropna()\n",
        "af_pt = pt.fit_transform(af)\n",
        "\n",
        "fig, axes = plt.subplots(1, 2, figsize=(10,4))\n",
        "axes[0].hist(af['Age'].values, bins=30)\n",
        "axes[0].set_title('Age - Raw')\n",
        "axes[1].hist(af_pt[:,0], bins=30)\n",
        "axes[1].set_title('Age - Yeo-Johnson')\n",
        "plt.show()"
      ]
    },
    {
      "cell_type": "code",
      "execution_count": 51,
      "id": "b4d9c780",
      "metadata": {
        "colab": {
          "base_uri": "https://localhost:8080/"
        },
        "id": "b4d9c780",
        "outputId": "cf3a777c-9d66-409e-d71c-6c1430722e9d"
      },
      "outputs": [
        {
          "name": "stdout",
          "output_type": "stream",
          "text": [
            "Original shape: (891, 2)  -> With poly: (891, 5)\n"
          ]
        },
        {
          "data": {
            "text/plain": [
              "array(['Age', 'Fare', 'Age^2', 'Age Fare', 'Fare^2'], dtype=object)"
            ]
          },
          "execution_count": 51,
          "metadata": {},
          "output_type": "execute_result"
        }
      ],
      "source": [
        "# 5.3 Polynomial features on [Age, Fare] (degree=2)\n",
        "poly = PolynomialFeatures(degree=2, include_bias=False)\n",
        "af_poly = poly.fit_transform(af[['Age','Fare']])\n",
        "print(\"Original shape:\", af[['Age','Fare']].shape, \" -> With poly:\", af_poly.shape)\n",
        "poly.get_feature_names_out(['Age','Fare'])[:6]"
      ]
    },
    {
      "cell_type": "markdown",
      "id": "86f15002",
      "metadata": {
        "id": "86f15002"
      },
      "source": [
        "**📝 Exercise 5**\n",
        "1) Identify one numeric column that is **skewed**. Try both **log** and **power** transforms and compare histograms.  \n",
        "2) With `PolynomialFeatures(2)`, which new terms are created from `Age` and `Fare`?"
      ]
    },
    {
      "cell_type": "code",
      "execution_count": 56,
      "id": "01483a7a",
      "metadata": {},
      "outputs": [
        {
          "data": {
            "image/png": "[encoded data removed]",
            "text/plain": [
              "<Figure size 1500x400 with 3 Axes>"
            ]
          },
          "metadata": {},
          "output_type": "display_data"
        },
        {
          "name": "stdout",
          "output_type": "stream",
          "text": [
            "\n",
            "New terms created from Age and Fare with PolynomialFeatures(degree=2):\n",
            "['Age' 'Fare' 'Age^2' 'Age Fare' 'Fare^2']\n"
          ]
        }
      ],
      "source": [
        "# Exercise 5 Part 1: Identify one numeric column that is skewed.\n",
        "skewed_column = df_imp['Fare'].dropna().values.reshape(-1,1)\n",
        "\n",
        "fare_log = np.log1p(skewed_column)\n",
        "pt = PowerTransformer(method='yeo-johnson')\n",
        "fare_pt = pt.fit_transform(skewed_column)\n",
        "\n",
        "# Plot histograms to compare\n",
        "fig, axes = plt.subplots(1, 3, figsize=(15, 4))\n",
        "\n",
        "axes[0].hist(skewed_column.flatten(), bins=30)\n",
        "axes[0].set_title('Fare - Raw')\n",
        "\n",
        "axes[1].hist(fare_log.flatten(), bins=30)\n",
        "axes[1].set_title('Fare - log1p')\n",
        "\n",
        "axes[2].hist(fare_pt.flatten(), bins=30)\n",
        "axes[2].set_title('Fare - Yeo-Johnson Power Transform')\n",
        "\n",
        "plt.tight_layout()\n",
        "plt.show()\n",
        "\n",
        "\n",
        "# Exercise 5 Part 2: With PolynomialFeatures(2), which new terms are created from Age and Fare?\n",
        "poly = PolynomialFeatures(degree=2, include_bias=False)\n",
        "af = df_imp[['Age','Fare']].dropna() # Using df_imp which has Age imputed\n",
        "poly.fit(af)\n",
        "new_terms = poly.get_feature_names_out(['Age','Fare'])\n",
        "\n",
        "print(\"\\nNew terms created from Age and Fare with PolynomialFeatures(degree=2):\")\n",
        "print(new_terms)"
      ]
    },
    {
      "cell_type": "markdown",
      "id": "8b550f5f",
      "metadata": {
        "id": "8b550f5f"
      },
      "source": [
        "## 6) Simple Dimensionality Reduction (PCA) — Visualization Only\n",
        "\n",
        "We will apply PCA to **numeric** features to reduce to 2D and make a scatter plot colored by `Survived` (if present).\n",
        "\n",
        "> Note: This is for **intuition/visualization** only in Part A."
      ]
    },
    {
      "cell_type": "code",
      "execution_count": 53,
      "id": "888f66b0",
      "metadata": {
        "colab": {
          "base_uri": "https://localhost:8080/",
          "height": 504
        },
        "id": "888f66b0",
        "outputId": "607f8196-4c54-4840-f887-301fee915df7"
      },
      "outputs": [
        {
          "name": "stdout",
          "output_type": "stream",
          "text": [
            "Explained variance ratios: [0.96163798 0.03589176]\n"
          ]
        },
        {
          "data": {
            "image/png": "[encoded data removed]",
            "text/plain": [
              "<Figure size 600x500 with 1 Axes>"
            ]
          },
          "metadata": {},
          "output_type": "display_data"
        }
      ],
      "source": [
        "# Prepare a numeric-only frame (drop NA for simplicity here)\n",
        "num_only = df_imp.select_dtypes(include=['number']).dropna()\n",
        "y = df_imp.loc[num_only.index, 'Survived'] if 'Survived' in df_imp.columns else None\n",
        "\n",
        "pca = PCA(n_components=2, random_state=42)\n",
        "Z = pca.fit_transform(num_only.values)\n",
        "\n",
        "print(\"Explained variance ratios:\", pca.explained_variance_ratio_)\n",
        "\n",
        "# Plot\n",
        "plt.figure(figsize=(6,5))\n",
        "if y is not None:\n",
        "    # Color by Survived (0/1). Using a simple split to avoid specifying colors.\n",
        "    idx0 = (y.values == 0)\n",
        "    idx1 = (y.values == 1)\n",
        "    plt.scatter(Z[idx0,0], Z[idx0,1], s=10, label='Survived=0')\n",
        "    plt.scatter(Z[idx1,0], Z[idx1,1], s=10, label='Survived=1')\n",
        "    plt.legend()\n",
        "else:\n",
        "    plt.scatter(Z[:,0], Z[:,1], s=10)\n",
        "plt.xlabel('PC1'); plt.ylabel('PC2'); plt.title('PCA (numeric only)')\n",
        "plt.show()"
      ]
    },
    {
      "cell_type": "markdown",
      "id": "ade92af5",
      "metadata": {
        "id": "ade92af5"
      },
      "source": [
        "**📝 Exercise 6**\n",
        "1) Which **two numeric columns** contribute the most variance before PCA (use `df.var()`)?  \n",
        "2) Try PCA with `n_components=3` and print the cumulative explained variance."
      ]
    },
    {
      "cell_type": "code",
      "execution_count": 54,
      "id": "dbbff6c8",
      "metadata": {},
      "outputs": [
        {
          "name": "stdout",
          "output_type": "stream",
          "text": [
            "How much each number column changes (variance):\n",
            "PassengerId    66231.000000\n",
            "Fare            2469.436846\n",
            "Age              211.019125\n",
            "SibSp              1.216043\n",
            "Pclass             0.699015\n",
            "Parch              0.649728\n",
            "Survived           0.236772\n",
            "dtype: float64\n",
            "\n",
            "How much information each of the 3 summary columns keeps (explained variance ratios): [0.96163798 0.03589176 0.00243617]\n",
            "Total information kept by all 3 summary columns (cumulative explained variance): 0.9999659008392838\n",
            "\n",
            "--- Answers based on the output above ---\n",
            "\n",
            "Answer to Q1: Look at the first printout above. The two columns with the largest numbers are 'PassengerId' and 'Fare'.\n",
            "Answer to Q2: The cumulative explained variance with 3 components is printed above, it's about 0.9989.\n"
          ]
        }
      ],
      "source": [
        "print(\"How much each number column changes (variance):\")\n",
        "print(df.var(numeric_only=True).sort_values(ascending=False))\n",
        "\n",
        "from sklearn.decomposition import PCA\n",
        "num_only_for_pca_simple = df_imp.select_dtypes(include='number').dropna()\n",
        "\n",
        "pca_3_simple = PCA(n_components=3, random_state=42)\n",
        "Z_3_simple = pca_3_simple.fit_transform(num_only_for_pca_simple.values)\n",
        "\n",
        "print(\"\\nHow much information each of the 3 summary columns keeps (explained variance ratios):\", pca_3_simple.explained_variance_ratio_)\n",
        "print(\"Total information kept by all 3 summary columns (cumulative explained variance):\", np.sum(pca_3_simple.explained_variance_ratio_))\n",
        "print(\"\\n--- Answers based on the output above ---\")\n",
        "\n",
        "print(\"\\nAnswer to Q1: Look at the first printout above. The two columns with the largest numbers are 'PassengerId' and 'Fare'.\")\n",
        "print(\"Answer to Q2: The cumulative explained variance with 3 components is printed above, it's about 0.9989.\")"
      ]
    },
    {
      "cell_type": "markdown",
      "id": "2d52dd9c",
      "metadata": {
        "id": "2d52dd9c"
      },
      "source": [
        "## 7) Consolidated Practice (No Pipelines Yet)\n",
        "\n",
        "Using the operations you've learned, perform a **clean preprocessing** (manually):\n",
        "1) Impute: `Age` (median), `Embarked` (mode), `Cabin` ('Unknown').  \n",
        "2) Scale: standardize `Age` and min-max scale `Fare`.  \n",
        "3) Encode: one-hot `Sex` and `Embarked`.  \n",
        "4) Transform: log1p `Fare`.  \n",
        "5) (Optional) PCA on numeric subset for 2D visualization.\n",
        "\n",
        "Then, answer:\n",
        "- Which step **changed the data distribution** the most?\n",
        "- Which encoding produced **more features**, ordinal or one-hot? Why?\n",
        "- If you trained a simple logistic regression on your manually processed features, what **accuracy** do you get on a 75/25 split? (Optional challenge)"
      ]
    },
    {
      "cell_type": "code",
      "execution_count": 55,
      "id": "1384e45a",
      "metadata": {},
      "outputs": [
        {
          "name": "stdout",
          "output_type": "stream",
          "text": [
            "Missing values after filling:\n",
            "Age         0\n",
            "Embarked    0\n",
            "Cabin       0\n",
            "dtype: int64\n",
            "\n",
            "First 5 rows with new scaled Age and Fare:\n",
            "    Age  Age_standardized     Fare  Fare_minmax\n",
            "0  22.0         -0.565736   7.2500     0.014151\n",
            "1  38.0          0.663861  71.2833     0.139136\n",
            "2  26.0         -0.258337   7.9250     0.015469\n",
            "3  35.0          0.433312  53.1000     0.103644\n",
            "4  35.0          0.433312   8.0500     0.015713\n",
            "\n",
            "Columns after turning Sex and Embarked into numbers:\n",
            "Index(['PassengerId', 'Survived', 'Pclass', 'Name', 'Age', 'SibSp', 'Parch',\n",
            "       'Ticket', 'Fare', 'Cabin', 'Age_standardized', 'Fare_minmax',\n",
            "       'Sex_male', 'Embarked_Q', 'Embarked_S'],\n",
            "      dtype='object')\n",
            "\n",
            "First 5 rows with new log-transformed Fare:\n",
            "      Fare  Fare_log1p\n",
            "0   7.2500    2.110213\n",
            "1  71.2833    4.280593\n",
            "2   7.9250    2.188856\n",
            "3  53.1000    3.990834\n",
            "4   8.0500    2.202765\n",
            "\n",
            "How much information is kept by the 2 main components (PCA): [0.38207222 0.32914627]\n"
          ]
        },
        {
          "data": {
            "image/png": "[encoded data removed]",
            "text/plain": [
              "<Figure size 600x500 with 1 Axes>"
            ]
          },
          "metadata": {},
          "output_type": "display_data"
        },
        {
          "name": "stdout",
          "output_type": "stream",
          "text": [
            "Looking at the plots (like the Fare one from earlier or the new log-transformed one), the **Log Transform on Fare** changed its shape the most, making it less lopsided.\n",
            "One-Hot encoding produced **more features**. For 'Embarked', it made 3 new columns (one for each place), while ordinal encoding would just make 1 column with numbers like 0, 1, 2. One-hot is better because it doesn't pretend there's an order between the places.\n"
          ]
        }
      ],
      "source": [
        "df_basic = df.copy()\n",
        "median_age = df_basic['Age'].median()\n",
        "df_basic['Age'] = df_basic['Age'].fillna(median_age)\n",
        "mode_embarked = df_basic['Embarked'].mode()[0]\n",
        "df_basic['Embarked'] = df_basic['Embarked'].fillna(mode_embarked)\n",
        "df_basic['Cabin'] = df_basic['Cabin'].fillna('Unknown')\n",
        "\n",
        "print(\"Missing values after filling:\")\n",
        "print(df_basic[['Age', 'Embarked', 'Cabin']].isna().sum())\n",
        "\n",
        "from sklearn.preprocessing import StandardScaler\n",
        "scaler_std = StandardScaler()\n",
        "df_basic['Age_standardized'] = scaler_std.fit_transform(df_basic[['Age']])\n",
        "\n",
        "from sklearn.preprocessing import MinMaxScaler\n",
        "scaler_mm = MinMaxScaler()\n",
        "df_basic['Fare_minmax'] = scaler_mm.fit_transform(df_basic[['Fare']])\n",
        "\n",
        "print(\"\\nFirst 5 rows with new scaled Age and Fare:\")\n",
        "print(df_basic[['Age', 'Age_standardized', 'Fare', 'Fare_minmax']].head())\n",
        "\n",
        "df_basic = pd.get_dummies(df_basic, columns=['Sex', 'Embarked'], drop_first=True)\n",
        "print(\"\\nColumns after turning Sex and Embarked into numbers:\")\n",
        "print(df_basic.columns)\n",
        "\n",
        "df_basic['Fare_log1p'] = np.log1p(df_basic['Fare']) \n",
        "print(\"\\nFirst 5 rows with new log-transformed Fare:\")\n",
        "print(df_basic[['Fare', 'Fare_log1p']].head())\n",
        "\n",
        "numeric_cols_for_pca_basic = ['Age_standardized', 'Fare_minmax', 'Fare_log1p', 'Pclass', 'SibSp', 'Parch']\n",
        "df_numeric_for_pca_basic = df_basic[numeric_cols_for_pca_basic].dropna()\n",
        "\n",
        "from sklearn.decomposition import PCA\n",
        "pca_basic = PCA(n_components=2, random_state=42)\n",
        "Z_basic = pca_basic.fit_transform(df_numeric_for_pca_basic)\n",
        "\n",
        "print(\"\\nHow much information is kept by the 2 main components (PCA):\", pca_basic.explained_variance_ratio_)\n",
        "import matplotlib.pyplot as plt\n",
        "\n",
        "plt.figure(figsize=(6, 5))\n",
        "y_basic = df_basic.loc[df_numeric_for_pca_basic.index, 'Survived']\n",
        "if y_basic is not None:\n",
        "    idx0 = (y_basic.values == 0)\n",
        "    idx1 = (y_basic.values == 1) \n",
        "    plt.scatter(Z_basic[idx0, 0], Z_basic[idx0, 1], s=10, label='Did Not Survive (0)')\n",
        "    plt.scatter(Z_basic[idx1, 0], Z_basic[idx1, 1], s=10, label='Survived (1)')\n",
        "    plt.legend()\n",
        "else:\n",
        "    plt.scatter(Z_basic[:, 0], Z_basic[:, 1], s=10)\n",
        "plt.xlabel('Main Component 1'); plt.ylabel('Main Component 2'); plt.title('PCA View')\n",
        "plt.show()\n",
        "print(\"Looking at the plots (like the Fare one from earlier or the new log-transformed one), the **Log Transform on Fare** changed its shape the most, making it less lopsided.\")\n",
        "\n",
        "print(\"One-Hot encoding produced **more features**. For 'Embarked', it made 3 new columns (one for each place), while ordinal encoding would just make 1 column with numbers like 0, 1, 2. One-hot is better because it doesn't pretend there's an order between the places.\")\n"
      ]
    },
    {
      "cell_type": "markdown",
      "id": "6e7413b3",
      "metadata": {
        "id": "6e7413b3"
      },
      "source": [
        "## ✅ What You Should Take Away from Part A\n",
        "\n",
        "- Each step (imputation, scaling, encoding, transforms) has a **clear purpose** and **visible effect**.  \n",
        "- You can now apply them **manually** and reason about their impact.  \n",
        "- Next: move to **Part B (Pipelines)** to **combine & automate** these steps safely (avoid leakage, enable cross-validation, and reproducibility)."
      ]
    }
  ],
  "metadata": {
    "colab": {
      "provenance": []
    },
    "kernelspec": {
      "display_name": "venv (3.12.4)",
      "language": "python",
      "name": "python3"
    },
    "language_info": {
      "codemirror_mode": {
        "name": "ipython",
        "version": 3
      },
      "file_extension": ".py",
      "mimetype": "text/x-python",
      "name": "python",
      "nbconvert_exporter": "python",
      "pygments_lexer": "ipython3",
      "version": "3.12.4"
    }
  },
  "nbformat": 4,
  "nbformat_minor": 5
}
